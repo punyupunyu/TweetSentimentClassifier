{
 "metadata": {
  "name": "",
  "signature": "sha256:75285b7396065f5b9e7d96dc67ebab35799b80a63cafe0add63589bcbf8bb4cd"
 },
 "nbformat": 3,
 "nbformat_minor": 0,
 "worksheets": [
  {
   "cells": [
    {
     "cell_type": "code",
     "collapsed": false,
     "input": [
      "#create sentiment dictionary\n",
      "#classify tweet sentiment\n",
      "#scrape twitter user data and do a segmentation analysis on twitterhandles\n",
      "#build business plan around different user groups\n",
      "#possibly do a network graph?\n"
     ],
     "language": "python",
     "metadata": {},
     "outputs": [],
     "prompt_number": 139
    },
    {
     "cell_type": "code",
     "collapsed": false,
     "input": [
      "import pandas as pd\n",
      "import csv\n",
      "import matplotlib.pyplot as plt\n",
      "\n",
      "import re, math, collections, itertools\n",
      "import nltk, nltk.classify.util, nltk.metrics\n",
      "from nltk.classify import NaiveBayesClassifier\n",
      "from nltk.metrics import BigramAssocMeasures\n",
      "from nltk.probability import FreqDist, ConditionalFreqDist\n",
      "import pylab\n",
      "%pylab inline"
     ],
     "language": "python",
     "metadata": {},
     "outputs": [
      {
       "output_type": "stream",
       "stream": "stdout",
       "text": [
        "Populating the interactive namespace from numpy and matplotlib\n"
       ]
      },
      {
       "output_type": "stream",
       "stream": "stderr",
       "text": [
        "WARNING: pylab import has clobbered these variables: ['pylab']\n",
        "`%matplotlib` prevents importing * from pylab and numpy\n"
       ]
      }
     ],
     "prompt_number": 140
    },
    {
     "cell_type": "code",
     "collapsed": false,
     "input": [
      "sentdf = pd.DataFrame(Sent_Dict, columns=['Words', 'Score'])\n",
      "sentdf['Score'].describe()\n"
     ],
     "language": "python",
     "metadata": {},
     "outputs": [
      {
       "metadata": {},
       "output_type": "pyout",
       "prompt_number": 142,
       "text": [
        "count     2477\n",
        "unique      11\n",
        "top         -2\n",
        "freq       966\n",
        "Name: Score, dtype: object"
       ]
      }
     ],
     "prompt_number": 142
    },
    {
     "cell_type": "code",
     "collapsed": false,
     "input": [
      "sentdf['Score'] = sentdf['Score'].apply(int)"
     ],
     "language": "python",
     "metadata": {},
     "outputs": [],
     "prompt_number": 143
    },
    {
     "cell_type": "code",
     "collapsed": false,
     "input": [
      "#categorize words as very negative to very positive and add some movie-specific words\n",
      "NegTerms = sentdf[sentdf['Score']<0]\n",
      "PosTerms = sentdf[sentdf['Score']>0]"
     ],
     "language": "python",
     "metadata": {},
     "outputs": [],
     "prompt_number": 144
    },
    {
     "cell_type": "code",
     "collapsed": false,
     "input": [
      "#read saved scraped file\n",
      "myfile = 'CSVFILE HERE' #include your file here\n",
      "df = pd.DataFrame.from_csv(myfile, index_col=False)"
     ],
     "language": "python",
     "metadata": {},
     "outputs": [],
     "prompt_number": 171
    },
    {
     "cell_type": "code",
     "collapsed": false,
     "input": [
      "#remove all tweets authored by twitter handle\n",
      "\n",
      "#to build sentiment engine do feature extraction, naive bayesian classifier seems ot be the way to go\n",
      "print len(df)\n",
      "df.columns"
     ],
     "language": "python",
     "metadata": {},
     "outputs": [
      {
       "output_type": "stream",
       "stream": "stdout",
       "text": [
        "7785\n"
       ]
      },
      {
       "metadata": {},
       "output_type": "pyout",
       "prompt_number": 172,
       "text": [
        "Index([u'created_at', u'tweetid', u'userid', u'handle', u'tweet', u'Sentiment', u'Dataset'], dtype='object')"
       ]
      }
     ],
     "prompt_number": 172
    },
    {
     "cell_type": "code",
     "collapsed": false,
     "input": [
      "#here I removve all tweets by the user @Volusion\n",
      "\n",
      "df = df[df['handle'] != 'Volusion']\n",
      "df['Sentiment'].describe()"
     ],
     "language": "python",
     "metadata": {},
     "outputs": [
      {
       "metadata": {},
       "output_type": "pyout",
       "prompt_number": 173,
       "text": [
        "count     193\n",
        "unique      2\n",
        "top       pos\n",
        "freq      171\n",
        "Name: Sentiment, dtype: object"
       ]
      }
     ],
     "prompt_number": 173
    },
    {
     "cell_type": "code",
     "collapsed": false,
     "input": [
      "#remove all tweets by mozu as well\n",
      "df = df[df['handle'] != 'Mozu'].reset_index()"
     ],
     "language": "python",
     "metadata": {},
     "outputs": [],
     "prompt_number": 175
    },
    {
     "cell_type": "code",
     "collapsed": false,
     "input": [
      "#evaluate features -> helps us decide which feature selection method to use\n",
      "def evaluate_features(feature_select):\n",
      "    #reading pre-labeled input and splitting into lines\n",
      "    #these are already classified positive/negative sentences from the data set\n",
      "    #it's possible that I should be using the pos/neg information from the dictionary??\n",
      "    posSentences = df[df['Sentiment'] == 'pos'].reset_index()\n",
      "    negSentences = df[df['Sentiment'] == 'neg'].reset_index()\n",
      " \n",
      "    posFeatures = []\n",
      "    negFeatures = []\n",
      "    #breaks up the sentences into lists of individual words (as selected by the input mechanism) \n",
      "    #and appends 'pos' or 'neg' after each list\n",
      "    posrange = len(posSentences)\n",
      "    for i in range(posrange):\n",
      "        posWords = re.findall(r\"[\\w']+|[.,!?;]\", posSentences['tweet'][i].rstrip())\n",
      "        posWords = [feature_select(posWords), 'pos'] #feature_select find all pos words and marks them\n",
      "        posFeatures.append(posWords)\n",
      "    negrange = len(negSentences)\n",
      "    for i in range(negrange):\n",
      "        negWords = re.findall(r\"[\\w']+|[.,!?;]\", negSentences['tweet'][i].rstrip())\n",
      "        negWords = [feature_select(negWords), 'neg']\n",
      "        negFeatures.append(negWords)\n",
      "    \n",
      "    #selects 3/4 of the features to be used for training and 1/4 to be used for testing\n",
      "    posCutoff = int(math.floor(len(posFeatures)*3/4))\n",
      "    negCutoff = int(math.floor(len(negFeatures)*3/4))\n",
      "    trainFeatures = posFeatures[:posCutoff] + negFeatures[:negCutoff]\n",
      "    testFeatures = posFeatures[posCutoff:] + negFeatures[negCutoff:]\n",
      "\n",
      "    \n",
      "    #trains a Naive Bayes Classifier\n",
      "    classifier = NaiveBayesClassifier.train(trainFeatures)\t\n",
      "\n",
      "    #initiates referenceSets and testSets\n",
      "    referenceSets = collections.defaultdict(set)\n",
      "    testSets = collections.defaultdict(set)\t\n",
      "\n",
      "    #puts correctly labeled sentences in referenceSets and the predictively labeled version in testsets\n",
      "    for i, (features, label) in enumerate(testFeatures):\n",
      "        referenceSets[label].add(i)\n",
      "        predicted = classifier.classify(features)\n",
      "        testSets[predicted].add(i)\t\n",
      "\n",
      "    #prints metrics to show how well the feature selection did\n",
      "    print 'train on %d instances, test on %d instances' % (len(trainFeatures), len(testFeatures))\n",
      "    print 'accuracy:', nltk.classify.util.accuracy(classifier, testFeatures)\n",
      "    print 'pos precision:', nltk.metrics.precision(referenceSets['pos'], testSets['pos'])\n",
      "    print 'pos recall:', nltk.metrics.recall(referenceSets['pos'], testSets['pos'])\n",
      "    print 'neg precision:', nltk.metrics.precision(referenceSets['neg'], testSets['neg'])\n",
      "    print 'neg recall:', nltk.metrics.recall(referenceSets['neg'], testSets['neg'])\n",
      "    classifier.show_most_informative_features(10)\n",
      "    "
     ],
     "language": "python",
     "metadata": {},
     "outputs": [],
     "prompt_number": 176
    },
    {
     "cell_type": "code",
     "collapsed": false,
     "input": [
      "#creates a feature selection mechanism that uses all words\n",
      "def make_full_dict(words):\n",
      "    return dict([(word, True) for word in words])"
     ],
     "language": "python",
     "metadata": {},
     "outputs": [],
     "prompt_number": 177
    },
    {
     "cell_type": "code",
     "collapsed": false,
     "input": [
      "#tries using all words as the feature selection mechanism\n",
      "print 'using all words as features'\n",
      "evaluate_features(make_full_dict)\n"
     ],
     "language": "python",
     "metadata": {},
     "outputs": [
      {
       "output_type": "stream",
       "stream": "stdout",
       "text": [
        "using all words as features\n",
        "train on 144 instances, test on 49 instances"
       ]
      },
      {
       "output_type": "stream",
       "stream": "stdout",
       "text": [
        "\n",
        "accuracy: 0.775510204082\n",
        "pos precision: 0.970588235294\n",
        "pos recall: 0.767441860465\n",
        "neg precision: 0.333333333333\n",
        "neg recall: 0.833333333333\n",
        "Most Informative Features\n",
        "                 service = True              neg : pos    =     17.7 : 1.0\n",
        "                    soon = True              neg : pos    =     12.6 : 1.0\n",
        "                       ? = True              neg : pos    =     11.9 : 1.0\n",
        "                Volusion = None              pos : neg    =      8.9 : 1.0\n",
        "                  You're = True              neg : pos    =      7.6 : 1.0\n",
        "                      am = True              neg : pos    =      7.6 : 1.0\n",
        "                      if = True              neg : pos    =      7.6 : 1.0\n",
        "                    tech = True              neg : pos    =      7.6 : 1.0\n",
        "                  having = True              neg : pos    =      7.6 : 1.0\n",
        "                    like = True              neg : pos    =      7.6 : 1.0\n"
       ]
      }
     ],
     "prompt_number": 178
    },
    {
     "cell_type": "code",
     "collapsed": false,
     "input": [
      "#scores words based on chi-squared test to show information gain (http://streamhacker.com/2010/06/16/text-classification-sentiment-analysis-eliminate-low-information-features/)\n",
      "def create_word_scores():\n",
      "    posWords = []\n",
      "    negWords = []    \n",
      "    posSentences = df[df['Sentiment'] == 'pos'].reset_index()\n",
      "    negSentences = df[df['Sentiment'] == 'neg'].reset_index()    \n",
      "    #creates lists of all positive and negative words\n",
      "    posrange = len(posSentences)\n",
      "    for i in range(posrange):\n",
      "        posWord = re.findall(r\"[\\w']+|[.,!?;]\", posSentences['tweet'][i].rstrip())\n",
      "        posWords.append(posWord)        \n",
      "    negrange = len(negSentences)\n",
      "    for i in range(negrange):\n",
      "        negWord = re.findall(r\"[\\w']+|[.,!?;]\", negSentences['tweet'][i].rstrip())\n",
      "        negWords.append(negWord)\n",
      "    posWords = list(itertools.chain(*posWords))\n",
      "    negWords = list(itertools.chain(*negWords))\n",
      "\n",
      "    #build frequency distibution of all words and then frequency distributions of words within positive and negative labels\n",
      "    word_fd = FreqDist()\n",
      "    cond_word_fd = ConditionalFreqDist()\n",
      "    for word in posWords:\n",
      "        word_fd[word.lower()] += 1\n",
      "        cond_word_fd['pos'][word.lower()] += 1\n",
      "    for word in negWords:\n",
      "        word_fd[word.lower()] += 1\n",
      "        cond_word_fd['neg'][word.lower()] += 1\n",
      "\n",
      "    #finds the number of positive and negative words, as well as the total number of words\n",
      "    pos_word_count = cond_word_fd['pos'].N()\n",
      "    neg_word_count = cond_word_fd['neg'].N()\n",
      "    total_word_count = pos_word_count + neg_word_count\n",
      "\n",
      "    #builds dictionary of word scores based on chi-squared test\n",
      "    word_scores = {}\n",
      "    for word, freq in word_fd.iteritems():\n",
      "        pos_score = BigramAssocMeasures.chi_sq(cond_word_fd['pos'][word], (freq, pos_word_count), total_word_count)\n",
      "        neg_score = BigramAssocMeasures.chi_sq(cond_word_fd['neg'][word], (freq, neg_word_count), total_word_count)\n",
      "        word_scores[word] = pos_score + neg_score\n",
      "\n",
      "    return word_scores"
     ],
     "language": "python",
     "metadata": {},
     "outputs": [],
     "prompt_number": 179
    },
    {
     "cell_type": "code",
     "collapsed": false,
     "input": [
      "#finds word scores\n",
      "word_scores = create_word_scores()\n",
      "\n",
      "#finds the best 'number' words based on word scores\n",
      "def find_best_words(word_scores, number):\n",
      "    best_vals = sorted(word_scores.iteritems(), key=lambda (w, s): s, reverse=True)[:number]\n",
      "    best_words = set([w for w, s in best_vals])\n",
      "    return best_words\n",
      "\n",
      "#creates feature selection mechanism that only uses best words\n",
      "def best_word_features(words):\n",
      "    return dict([(word, True) for word in words if word in best_words])\n",
      "\n",
      "#numbers of features to select\n",
      "numbers_to_test = [10, 100, 1000, 10000, 15000]\n",
      "#tries the best_word_features mechanism with each of the numbers_to_test of features\n",
      "for num in numbers_to_test:\n",
      "    print 'evaluating best %d word features' % (num)\n",
      "    best_words = find_best_words(word_scores, num)\n",
      "    evaluate_features(best_word_features)"
     ],
     "language": "python",
     "metadata": {},
     "outputs": [
      {
       "output_type": "stream",
       "stream": "stdout",
       "text": [
        "evaluating best 10 word features\n",
        "train on 144 instances, test on 49 instances\n",
        "accuracy: 0.897959183673\n",
        "pos precision: 0.931818181818\n",
        "pos recall: 0.953488372093\n",
        "neg precision: 0.6\n",
        "neg recall: 0.5\n",
        "Most Informative Features\n",
        "                 service = True              neg : pos    =     17.7 : 1.0\n",
        "                       ? = True              neg : pos    =     11.9 : 1.0\n",
        "                      is = True              neg : pos    =      5.4 : 1.0\n",
        "                      is = None              pos : neg    =      1.6 : 1.0\n",
        "                    down = None              pos : neg    =      1.6 : 1.0\n",
        "                       ? = None              pos : neg    =      1.4 : 1.0\n",
        "                     not = None              pos : neg    =      1.3 : 1.0\n",
        "                 service = None              pos : neg    =      1.2 : 1.0\n",
        "                   after = None              pos : neg    =      1.2 : 1.0\n",
        "              constantly = None              pos : neg    =      1.2 : 1.0\n",
        "evaluating best 100 word features\n",
        "train on 144 instances, test on 49 instances\n",
        "accuracy: 0.938775510204\n",
        "pos precision: 0.954545454545\n",
        "pos recall: 0.976744186047\n",
        "neg precision: 0.8\n",
        "neg recall: 0.666666666667\n",
        "Most Informative Features\n",
        "                 service = True              neg : pos    =     17.7 : 1.0\n",
        "                       ? = True              neg : pos    =     11.9 : 1.0\n",
        "                    just = True              neg : pos    =      7.6 : 1.0\n",
        "                     too = True              neg : pos    =      7.6 : 1.0\n",
        "                    like = True              neg : pos    =      7.6 : 1.0\n",
        "                shopping = True              neg : pos    =      7.6 : 1.0\n",
        "                      an = True              neg : pos    =      5.4 : 1.0\n",
        "                     are = True              neg : pos    =      5.4 : 1.0\n",
        "                      is = True              neg : pos    =      5.4 : 1.0\n",
        "                      is = None              pos : neg    =      1.6 : 1.0\n",
        "evaluating best 1000 word features\n",
        "train on 144 instances, test on 49 instances"
       ]
      },
      {
       "output_type": "stream",
       "stream": "stdout",
       "text": [
        "\n",
        "accuracy: 0.673469387755\n",
        "pos precision: 0.965517241379\n",
        "pos recall: 0.651162790698\n",
        "neg precision: 0.25\n",
        "neg recall: 0.833333333333\n",
        "Most Informative Features\n",
        "                 service = True              neg : pos    =     17.7 : 1.0\n",
        "                    soon = True              neg : pos    =     12.6 : 1.0\n",
        "                       ? = True              neg : pos    =     11.9 : 1.0\n",
        "                      am = True              neg : pos    =      7.6 : 1.0\n",
        "                      if = True              neg : pos    =      7.6 : 1.0\n",
        "                   reach = True              neg : pos    =      7.6 : 1.0\n",
        "                business = True              neg : pos    =      7.6 : 1.0\n",
        "                    days = True              neg : pos    =      7.6 : 1.0\n",
        "                    tech = True              neg : pos    =      7.6 : 1.0\n",
        "                     too = True              neg : pos    =      7.6 : 1.0\n",
        "evaluating best 10000 word features\n",
        "train on 144 instances, test on 49 instances"
       ]
      },
      {
       "output_type": "stream",
       "stream": "stdout",
       "text": [
        "\n",
        "accuracy: 0.673469387755\n",
        "pos precision: 0.965517241379\n",
        "pos recall: 0.651162790698\n",
        "neg precision: 0.25\n",
        "neg recall: 0.833333333333\n",
        "Most Informative Features\n",
        "                 service = True              neg : pos    =     17.7 : 1.0\n",
        "                    soon = True              neg : pos    =     12.6 : 1.0\n",
        "                       ? = True              neg : pos    =     11.9 : 1.0\n",
        "                      am = True              neg : pos    =      7.6 : 1.0\n",
        "                      if = True              neg : pos    =      7.6 : 1.0\n",
        "                   reach = True              neg : pos    =      7.6 : 1.0\n",
        "                business = True              neg : pos    =      7.6 : 1.0\n",
        "                    days = True              neg : pos    =      7.6 : 1.0\n",
        "                    tech = True              neg : pos    =      7.6 : 1.0\n",
        "                     too = True              neg : pos    =      7.6 : 1.0\n",
        "evaluating best 15000 word features\n",
        "train on 144 instances, test on 49 instances"
       ]
      },
      {
       "output_type": "stream",
       "stream": "stdout",
       "text": [
        "\n",
        "accuracy: 0.673469387755\n",
        "pos precision: 0.965517241379\n",
        "pos recall: 0.651162790698\n",
        "neg precision: 0.25\n",
        "neg recall: 0.833333333333\n",
        "Most Informative Features\n",
        "                 service = True              neg : pos    =     17.7 : 1.0\n",
        "                    soon = True              neg : pos    =     12.6 : 1.0\n",
        "                       ? = True              neg : pos    =     11.9 : 1.0\n",
        "                      am = True              neg : pos    =      7.6 : 1.0\n",
        "                      if = True              neg : pos    =      7.6 : 1.0\n",
        "                   reach = True              neg : pos    =      7.6 : 1.0\n",
        "                business = True              neg : pos    =      7.6 : 1.0\n",
        "                    days = True              neg : pos    =      7.6 : 1.0\n",
        "                    tech = True              neg : pos    =      7.6 : 1.0\n",
        "                     too = True              neg : pos    =      7.6 : 1.0\n"
       ]
      }
     ],
     "prompt_number": 180
    },
    {
     "cell_type": "code",
     "collapsed": false,
     "input": [
      "#plot of accuracy against features\n",
      "\n",
      "x = [10, 100, 1000, 10000, 15000, 15001]\n",
      "y = [0.897959, 0.93877, 0.673469, 0.673469387755, 0.673469387755, 0.775510204082]\n",
      "plt.plot(x, y)\n",
      "plt.ylabel('Accuracy')\n",
      "plt.xlabel('# of Features')\n",
      "plt.title('Accuracy as a Function of Features')\n",
      "savefig('Feature-accuracy.png')"
     ],
     "language": "python",
     "metadata": {},
     "outputs": [
      {
       "metadata": {},
       "output_type": "display_data",
       "png": "[encoded data removed]",
       "text": [
        "<matplotlib.figure.Figure at 0x16630780>"
       ]
      }
     ],
     "prompt_number": 213
    },
    {
     "cell_type": "code",
     "collapsed": false,
     "input": [
      "print 'evaluating best %d word features' % (100)\n",
      "best_words = find_best_words(word_scores, 100)\n",
      "evaluate_features(best_word_features)"
     ],
     "language": "python",
     "metadata": {},
     "outputs": [
      {
       "output_type": "stream",
       "stream": "stdout",
       "text": [
        "evaluating best 100 word features\n",
        "train on 144 instances, test on 49 instances\n",
        "accuracy: 0.938775510204\n",
        "pos precision: 0.954545454545\n",
        "pos recall: 0.976744186047\n",
        "neg precision: 0.8\n",
        "neg recall: 0.666666666667\n",
        "Most Informative Features\n",
        "                 service = True              neg : pos    =     17.7 : 1.0\n",
        "                       ? = True              neg : pos    =     11.9 : 1.0\n",
        "                    just = True              neg : pos    =      7.6 : 1.0\n",
        "                     too = True              neg : pos    =      7.6 : 1.0\n",
        "                    like = True              neg : pos    =      7.6 : 1.0\n",
        "                shopping = True              neg : pos    =      7.6 : 1.0\n",
        "                      an = True              neg : pos    =      5.4 : 1.0\n",
        "                     are = True              neg : pos    =      5.4 : 1.0\n",
        "                      is = True              neg : pos    =      5.4 : 1.0\n",
        "                      is = None              pos : neg    =      1.6 : 1.0\n"
       ]
      }
     ],
     "prompt_number": 181
    },
    {
     "cell_type": "code",
     "collapsed": false,
     "input": [
      "#Now to classify the dataset\n",
      "\n",
      "#pos/neg classified items\n",
      "posSentences = df[df['Sentiment'] == 'pos'].reset_index()\n",
      "negSentences = df[df['Sentiment'] == 'neg'].reset_index()\n",
      " \n",
      "posFeatures = []\n",
      "negFeatures = []\n",
      "\n",
      "#breaks up the sentences into lists of individual words (as selected by the input mechanism) \n",
      "#and appends 'pos' or 'neg' after each list\n",
      "posrange = len(posSentences)\n",
      "for i in range(posrange):\n",
      "    posWords = re.findall(r\"[\\w']+|[.,!?;]\", posSentences['tweet'][i].rstrip())\n",
      "    posWords = [best_word_features(posWords), 'pos'] #feature_select find all pos words and marks them\n",
      "    posFeatures.append(posWords)\n",
      "negrange = len(negSentences)\n",
      "for i in range(negrange):\n",
      "    negWords = re.findall(r\"[\\w']+|[.,!?;]\", negSentences['tweet'][i].rstrip())\n",
      "    negWords = [best_word_features(negWords), 'neg']\n",
      "    negFeatures.append(negWords)\n",
      "    \n",
      "#selects 3/4 of the features to be used for training and 1/4 to be used for testing\n",
      "posCutoff = int(math.floor(len(posFeatures)*3/4))\n",
      "negCutoff = int(math.floor(len(negFeatures)*3/4))\n",
      "trainFeatures = posFeatures[:posCutoff] + negFeatures[:negCutoff]\n",
      "testFeatures = posFeatures[posCutoff:] + negFeatures[negCutoff:]\n",
      "        \n",
      "#trains a Naive Bayes Classifier\n",
      "classifier = NaiveBayesClassifier.train(trainFeatures)\t\n",
      "\n",
      "#initiates referenceSets and testSets\n",
      "referenceSets = collections.defaultdict(set)\n",
      "testSets = collections.defaultdict(set)\t\n",
      "\n",
      "#puts correctly labeled sentences in referenceSets and the predictively labeled version in testsets\n",
      "for i, (features, label) in enumerate(testFeatures):\n",
      "    referenceSets[label].add(i)\n",
      "    predicted = classifier.classify(features)\n",
      "    testSets[predicted].add(i)"
     ],
     "language": "python",
     "metadata": {},
     "outputs": [],
     "prompt_number": 182
    },
    {
     "cell_type": "code",
     "collapsed": false,
     "input": [
      "#prints metrics to show how well the feature selection did\n",
      "print 'train on %d instances, test on %d instances' % (len(trainFeatures), len(testFeatures))\n",
      "print 'accuracy:', nltk.classify.util.accuracy(classifier, testFeatures)\n",
      "print 'pos precision:', nltk.metrics.precision(referenceSets['pos'], testSets['pos'])\n",
      "print 'pos recall:', nltk.metrics.recall(referenceSets['pos'], testSets['pos'])\n",
      "print 'neg precision:', nltk.metrics.precision(referenceSets['neg'], testSets['neg'])\n",
      "print 'neg recall:', nltk.metrics.recall(referenceSets['neg'], testSets['neg'])\n",
      "classifier.show_most_informative_features(10)\n"
     ],
     "language": "python",
     "metadata": {},
     "outputs": [
      {
       "output_type": "stream",
       "stream": "stdout",
       "text": [
        "train on 144 instances, test on 49 instances\n",
        "accuracy: 0.938775510204\n",
        "pos precision: 0.954545454545\n",
        "pos recall: 0.976744186047\n",
        "neg precision: 0.8\n",
        "neg recall: 0.666666666667\n",
        "Most Informative Features\n",
        "                 service = True              neg : pos    =     17.7 : 1.0\n",
        "                       ? = True              neg : pos    =     11.9 : 1.0\n",
        "                    just = True              neg : pos    =      7.6 : 1.0\n",
        "                     too = True              neg : pos    =      7.6 : 1.0\n",
        "                    like = True              neg : pos    =      7.6 : 1.0\n",
        "                shopping = True              neg : pos    =      7.6 : 1.0\n",
        "                      an = True              neg : pos    =      5.4 : 1.0\n",
        "                     are = True              neg : pos    =      5.4 : 1.0\n",
        "                      is = True              neg : pos    =      5.4 : 1.0\n",
        "                      is = None              pos : neg    =      1.6 : 1.0\n"
       ]
      }
     ],
     "prompt_number": 183
    },
    {
     "cell_type": "code",
     "collapsed": false,
     "input": [
      "#create the dataset to test on\n",
      "\n",
      "trainFeatures = posFeatures + negFeatures\n",
      "\n",
      "MyTest = []\n",
      "for x in range(len(df)):\n",
      "    #print x\n",
      "    mywords = re.findall(r\"[\\w']+|[.,!?;]\", df['tweet'][x].rstrip())\n",
      "    if df['Sentiment'][x] == 'pos':\n",
      "        mywords = [best_word_features(mywords), 'pos'] \n",
      "        MyTest.append(mywords)\n",
      "    if df['Sentiment'][x] == 'neg':\n",
      "        mywords = [best_word_features(mywords), 'neg'] \n",
      "        MyTest.append(mywords)\n",
      "    elif type(df['Sentiment'][x]) == float:\n",
      "        mywords = [best_word_features(mywords), ''] \n",
      "        MyTest.append(mywords)\n",
      "        \n",
      "classifier = NaiveBayesClassifier.train(trainFeatures)\n",
      "\n",
      "#initiates referenceSets and testSets\n",
      "referenceSets = collections.defaultdict(set)\n",
      "testSets = collections.defaultdict(set)\t\n",
      "\n",
      "df['Probability']= ''\n",
      "df['Pred_Sent']= ''\n",
      "df['assigned_sent'] = ''\n",
      "#puts correctly labeled sentences in referenceSets and the predictively labeled version in testsets\n",
      "for i, (features, label) in enumerate(MyTest):\n",
      "    referenceSets[label].add(i)\n",
      "    predicted = classifier.classify(features)\n",
      "    #print predicted\n",
      "    distr = classifier.prob_classify(features)\n",
      "    #print(\"%s: %f\" % (predicted, distr.prob(predicted)))\n",
      "    df['Probability'][i] = distr.prob(predicted)\n",
      "    if distr.prob(predicted) < 0.88:\n",
      "        df['assigned_sent'][i] = 'neu'\n",
      "        df['Pred_Sent'][i] = predicted\n",
      "    else:\n",
      "        df['assigned_sent'][i] = predicted\n",
      "        df['Pred_Sent'][i] = predicted\n"
     ],
     "language": "python",
     "metadata": {},
     "outputs": [],
     "prompt_number": 184
    },
    {
     "cell_type": "code",
     "collapsed": false,
     "input": [
      "totalclassed = {'neu':len(df[df['assigned_sent'] == 'neu']), 'pos':len(df[df['assigned_sent'] == 'pos']) , 'neg':len(df[df['assigned_sent'] == 'neg'])}"
     ],
     "language": "python",
     "metadata": {},
     "outputs": [],
     "prompt_number": 189
    },
    {
     "cell_type": "code",
     "collapsed": false,
     "input": [
      "totalclassed"
     ],
     "language": "python",
     "metadata": {},
     "outputs": [
      {
       "metadata": {},
       "output_type": "pyout",
       "prompt_number": 190,
       "text": [
        "{'neg': 698, 'neu': 1661, 'pos': 5216}"
       ]
      }
     ],
     "prompt_number": 190
    },
    {
     "cell_type": "code",
     "collapsed": false,
     "input": [
      "len(df)"
     ],
     "language": "python",
     "metadata": {},
     "outputs": [
      {
       "metadata": {},
       "output_type": "pyout",
       "prompt_number": 191,
       "text": [
        "7575"
       ]
      }
     ],
     "prompt_number": 191
    },
    {
     "cell_type": "code",
     "collapsed": false,
     "input": [
      "df.to_csv('Volusion_classed.csv')"
     ],
     "language": "python",
     "metadata": {},
     "outputs": [],
     "prompt_number": 188
    },
    {
     "cell_type": "code",
     "collapsed": false,
     "input": [
      "volusion = df[(df['Dataset'] == 'Volusion')]\n",
      "len(volusion[volusion['assigned_sent']=='pos']), len(volusion[volusion['assigned_sent']=='neg']), len(volusion[volusion['assigned_sent']=='neu']), "
     ],
     "language": "python",
     "metadata": {},
     "outputs": [
      {
       "metadata": {},
       "output_type": "pyout",
       "prompt_number": 219,
       "text": [
        "(175, 41, 62)"
       ]
      }
     ],
     "prompt_number": 219
    },
    {
     "cell_type": "code",
     "collapsed": false,
     "input": [
      "len(set(volusion[volusion['assigned_sent'] == 'neg']['handle']))"
     ],
     "language": "python",
     "metadata": {},
     "outputs": [
      {
       "metadata": {},
       "output_type": "pyout",
       "prompt_number": 228,
       "text": [
        "34"
       ]
      }
     ],
     "prompt_number": 228
    },
    {
     "cell_type": "code",
     "collapsed": false,
     "input": [
      "len(volusion), len(mozu)"
     ],
     "language": "python",
     "metadata": {},
     "outputs": [
      {
       "metadata": {},
       "output_type": "pyout",
       "prompt_number": 207,
       "text": [
        "(278, 44)"
       ]
      }
     ],
     "prompt_number": 207
    },
    {
     "cell_type": "code",
     "collapsed": false,
     "input": [
      "mozu = df[(df['Dataset'] == 'Mozu')]"
     ],
     "language": "python",
     "metadata": {},
     "outputs": [],
     "prompt_number": 196
    },
    {
     "cell_type": "code",
     "collapsed": false,
     "input": [
      "shopify = df[(df['Dataset'] == 'Shopify')]\n",
      "print len(shopify[shopify['assigned_sent'] == 'pos']), len(shopify[shopify['assigned_sent'] == 'neg']), len(shopify[shopify['assigned_sent'] == 'neu'])\n",
      "print len(shopify)\n"
     ],
     "language": "python",
     "metadata": {},
     "outputs": [
      {
       "output_type": "stream",
       "stream": "stdout",
       "text": [
        "5020 657 1576\n",
        "7253\n"
       ]
      }
     ],
     "prompt_number": 226
    },
    {
     "cell_type": "code",
     "collapsed": false,
     "input": [
      "mydf = pd.concat([volusion, mozu])\n",
      "len(mydf)"
     ],
     "language": "python",
     "metadata": {},
     "outputs": [
      {
       "metadata": {},
       "output_type": "pyout",
       "prompt_number": 220,
       "text": [
        "322"
       ]
      }
     ],
     "prompt_number": 220
    },
    {
     "cell_type": "code",
     "collapsed": false,
     "input": [
      "'pos:%d , neg:%d, neu:%d' % (len(mydf[mydf['assigned_sent'] == 'pos']), len(mydf[mydf['assigned_sent'] == 'neg']), len(mydf[mydf['assigned_sent'] == 'neu']))"
     ],
     "language": "python",
     "metadata": {},
     "outputs": [
      {
       "metadata": {},
       "output_type": "pyout",
       "prompt_number": 201,
       "text": [
        "'pos:196 , neg:41, neu:85'"
       ]
      }
     ],
     "prompt_number": 201
    },
    {
     "cell_type": "code",
     "collapsed": false,
     "input": [
      "volusion_neg = mydf[mydf['assigned_sent'] == 'neg']\n",
      "\n",
      "volusion_atmentions = mydf[mydf['tweet'].str.contains(r'@Volusion')]\n",
      "#for x in \n",
      "#of the negative \n",
      "#word_scores\n",
      "\n",
      "#most_common"
     ],
     "language": "python",
     "metadata": {},
     "outputs": [],
     "prompt_number": 202
    },
    {
     "cell_type": "code",
     "collapsed": false,
     "input": [
      "print 'neu:' + str(len(volusion_atmentions[volusion_atmentions['assigned_sent']=='neu']))\n",
      "print 'neg:' + str(len(volusion_atmentions[volusion_atmentions['assigned_sent']=='neg']))\n",
      "print 'pos:' + str(len(volusion_atmentions[volusion_atmentions['assigned_sent']=='pos']))\n",
      "\n"
     ],
     "language": "python",
     "metadata": {},
     "outputs": [
      {
       "output_type": "stream",
       "stream": "stdout",
       "text": [
        "neu:26\n",
        "neg:30\n",
        "pos:55\n"
       ]
      }
     ],
     "prompt_number": 203
    },
    {
     "cell_type": "code",
     "collapsed": false,
     "input": [
      "mozu_atmentions = mydf[mydf['tweet'].str.contains(r'@MozuCommerce')]\n"
     ],
     "language": "python",
     "metadata": {},
     "outputs": [],
     "prompt_number": 204
    },
    {
     "cell_type": "code",
     "collapsed": false,
     "input": [
      "print 'neu:' + str(len(mozu_atmentions[mozu_atmentions['assigned_sent']=='neu']))\n",
      "print 'neg:' + str(len(mozu_atmentions[mozu_atmentions['assigned_sent']=='neg']))\n",
      "print 'pos:' + str(len(mozu_atmentions[mozu_atmentions['assigned_sent']=='pos']))\n"
     ],
     "language": "python",
     "metadata": {},
     "outputs": [
      {
       "output_type": "stream",
       "stream": "stdout",
       "text": [
        "neu:25\n",
        "neg:0\n",
        "pos:17\n"
       ]
      }
     ],
     "prompt_number": 205
    },
    {
     "cell_type": "code",
     "collapsed": false,
     "input": [
      "#just look at at_mentionsl\n",
      "for x in volusion_atmentions['tweet']:\n",
      "    print x"
     ],
     "language": "python",
     "metadata": {},
     "outputs": [
      {
       "output_type": "stream",
       "stream": "stdout",
       "text": [
        "@Volusion is the WORST is pure SH*T. Shopping carts constantly crash. POOR customer service. #YOUSUCK\n",
        "RT @flyingorange: Work in Progress for Appleseed Primitives: Custom @Volusion template for #ecommerce website #webdesign #html5 #rwd http:/\u2026\n",
        "RT @TweetPopSocial: #FacebookFans vs. #TwitterFollowers \u2013 Which Are Better? http://t.co/UO9r1IzWFc via @Volusion\n",
        "Attend @Volusion's Feb 10th webinar for an intro of their robust, yet simple, platform. Signup @ http://t.co/qoIlFvkP08 #ecommerce #startups\n",
        "RT @Xconomy: Texas Roundup: @Volusion, @seatsmart, @XenexDisinfect, Decisio, @BioHouston, @AveXisInc | http://t.co/2fQdc77HTy\n",
        "Our @Volusion integration keeps your quantities synced between your warehouse and your store. Learn more: http://t.co/m3JHCcInMh #ecommerce\n",
        "RT @alkerton: When I joined @Shopify, we were at 12K stores, @BigCommerce was around 30K, and @Volusion at 40K. Today, we're bigger than bo\u2026\n",
        "@Volusion  We are new to volusion.  Is this common for our web sites to go down?  This is not good for business.  I am worried.\n",
        "How to Grow an Ecommerce Business - Volusion via @Volusion http://t.co/R1ZVhs8YYj\n",
        "Softwaremaker @Volusion announced completion of $55M round of equity financing + plans to hire 150 workers this year. http://t.co/XTKuio18Yr\n",
        "The Kid Brilliance Times is out! http://t.co/MVanQmCreZ Stories via @calgaryzoo @Volusion @AnnVoskamp\n",
        "@Volusion Do we have an estimate of when this issue will be resolved?  Is it a server issue?\n",
        "RT @Volusion: #ValentinesDay is the 2nd biggest selling holiday of the year. Don't miss these tips: http://t.co/pStcY7rc28 http://t.co/ZYbH\u2026\n",
        "@Volusion Thanks.  Much appreciated.\n",
        "@Volusion integration: How it's more than sales order synchronisation http://t.co/7xyMYU6St3 #ecommerce\n",
        "@Volusion How do I contact Volusion to let you know our site is down too?\n",
        "@Volusion noooo server not responding @sobareboudoir is not reloading \ud83d\ude15 #fix #everything #soon\n",
        "From @Volusion: personal connection keeps startup vibe alive during rapid #growth http://t.co/crmMlcagzs #FutureofWork\n",
        "@Volusion @EdmundSLee @sfemerick Five minutes after posting this, your service went down and you were totally unresponsive to inquiries\u2026\n",
        "The Kid Brilliance Times is out! http://t.co/MVanQmkPQp Stories via @shibleysmiles @Volusion @AmyBlevins\n",
        "Thanks #TopNewFollowers @Volusion @GrowthHackerAm @KarolPokojowczy Happy to connect :)\n",
        "RT @flyingorange: Work in Progress for Appleseed Primitives: Custom @Volusion template for #ecommerce website #webdesign #html5 #rwd http:/\u2026\n",
        "@Volusion http://t.co/kXSUXCqlSY is off line\n",
        "RT @Volusion: FREE #ValentinesDay graphics: Merchants, use these free images to help promote your offers http://t.co/tZyBH00gfy http://t.co\u2026\n",
        "RT @Volusion: #ValentinesDay is the 2nd biggest selling holiday of the year. Don't miss these tips: http://t.co/pStcY7rc28 http://t.co/ZYbH\u2026\n",
        "@Volusion It doesn't look like just some websites...Volusion.com is currently down!!\n",
        "@Volusion Get your SH*T together! You're system is constantly crashing. What the hell is wrong with you!?\n",
        "RT @Volusion: 3 tips to build a user-friendly site nav menu to increase conversions &amp; revenue: http://t.co/Cf8Fmk1QRY by @Nextopia http://t\u2026\n",
        "#Ecommerce software provider @Volusion just announced a really big #funding round. http://t.co/vLgnqj51EY\n",
        "Anyone thinking of signing up for @Volusion -- DON'T. Unreliable shopping cart. Constantly crashing. Poor customer service. #DISASTER\n",
        "RT @Volusion: LAST CHANCE! Enter to win 1yr of FREE website hosting + other prizes valued at $25k. Enter: http://t.co/IIkB0drYdG http://t.c\u2026\n",
        "@Volusion When can we expect full functionality? I hope ASAP! We're going nuts over here!\n",
        "When I joined @Shopify, we were at 12K stores, @BigCommerce was around 30K, and @Volusion at 40K. Today, we're bigger than both combined.\n",
        "The Wida Leicester Weekly is out! http://t.co/PaA8jdWiiF Stories via @Volusion\n",
        "@Volusion Feeling dejected with your support. Got a 5th grader response on a ticket after 5 days and still no resolution! #UnhappyCustomer\n",
        "@Volusion looks all set now. thx\n",
        "@Volusion Thanks for keeping us posted! @IETrainings appreciates it!\n",
        "@Volusion had to share this on my @RebelMouse. Thank you! http://t.co/PpiEgz0w48\n",
        "@Volusion Is Volusion having problems right now? My company's website won't load and I can't load http://t.co/C3y94PPn4t either.\n",
        "RT @Volusion: Keep up the great work, #entrepreneurs! http://t.co/beOvSjC34q\n",
        "Congrats @Volusion merchant Drain Strain for scoring a deal with @robertherjavec in @SharkTankABC #sharktanknation #ecommerce #DrainStrain\n",
        "RT @ZakStamborIR: #Ecommerce software provider @Volusion raises $55 million. http://t.co/vLgnqj51EY\n",
        "@Volusion Thanks for keeping us posted!\n",
        "Trust @Volusion. Personal connection keeps startup vibe alive during growth http://t.co/VjiIfrGiaH #FutureofWork\n",
        "RT @Volusion: 3 tips to build a user-friendly site nav menu to increase conversions &amp; revenue: http://t.co/Cf8Fmk1QRY by @Nextopia http://t\u2026\n",
        "RT @Volusion: #ValentinesDay is the 2nd biggest selling holiday of the year. Don't miss these tips: http://t.co/HnbXcwwof4 http://t.c\u2026\n",
        "@Volusion Sincere apologies my ass. You guys are a complete #DUMPSTERFIRE. Who do you hire to do I.T.? A bunch of high school stoners?\n",
        "RT @Volusion: #ValentinesDay is the 2nd biggest selling holiday of the year. Don't miss these tips: http://t.co/pStcY7rc28 http://t.co/ZYbH\u2026\n",
        "Thanks, Grant, have a wonderful weekend! @gwickes @Volusion @alisoncdiana @ScottVann\n",
        "RT @Volusion: Learn how to start selling online by coming to a 30min presentation on the Volusion platform on 2/10: http://t.co/FKU6AwIT2Z \u2026\n",
        "RT @Volusion: #ValentinesDay is the 2nd biggest selling holiday of the year. Don't miss these tips: http://t.co/pStcY7rc28 http://t.co/ZYbH\u2026\n",
        "RT @Volusion: 3 tips to build a user-friendly site nav menu to increase conversions &amp; revenue: http://t.co/Cf8Fmk1QRY by @Nextopia http://t\u2026\n",
        "Hey @Volusion - Our sites are down too.  cc: @thetruthinred\n",
        "RT @Volusion: Need a fresh design for your online store? Examples: http://t.co/TisDOLjotX Save 15-20% off select designs! Go here: http://t\u2026\n",
        "@Volusion Service is down. Can't login to MyVolusion?\n",
        "@Volusion BTW, if I click on the picture or ow.ly link, I can NOT get to the contest entry.  No bueno.\n",
        "@Volusion all my sites are down. Any service updates?\n",
        "Great week of RTs and interaction. Thx! #FF @Volusion @lauriemccabe @alisoncdiana @ScottVann\n",
        "RT @angelashah: Texas Roundup: @Volusion @seatsmart @XenexDisinfect Decisio @BioHouston @AveXisInc @Localeur @Favor https://t.co/xAhrOOTv0R\u2026\n",
        "RT @angelashah: Texas Roundup: @Volusion @seatsmart @XenexDisinfect Decisio @BioHouston @AveXisInc @Localeur @Favor http://t.co/8JDgI5iNXo \u2026\n",
        "Hey @nathanjoynt is there any way I can send you an email regarding @Volusion guest blogging? Thanks!\n",
        "January Top - List of Best #e-Commerce Articles http://t.co/hB8aiNFMDM\n",
        "@Shopify @Volusion @PrestaShop @Bigcommerce http://t.co/CVkZ1CjUUO\n",
        "RT @Mpowerwebsol @Volusion launched an #ecommerce #website for Pear Tree Soaps - handmade bath &amp; body care products. http://t.co/gkmmr6CWX8\n",
        "Texas Roundup: @Volusion, @seatsmart, @XenexDisinfect, Decisio, @BioHouston, @AveXisInc | http://t.co/2fQdc77HTy\n",
        "It looks like Bigcommerce's CEO approval rating is 83 vs. @Volusion's 100 Vote: http://t.co/BtnrOF4z3M\n",
        "For the man that has some face bits to shave - REVIEW - Beard Bars Cream Shave @Volusion http://t.co/S37lGN0jNU\n",
        "RT @Volusion: 3 tips to build a user-friendly site nav menu to increase conversions &amp; revenue: http://t.co/Cf8Fmk1QRY by @Nextopia http://t\u2026\n",
        "RT @ZakStamborIR: #Ecommerce software provider @Volusion just announced a really big #funding round. http://t.co/vLgnqj51EY\n",
        "From @Volusion: personal connection keeps startup vibe alive during rapid #growth http://t.co/crmMlcagzs #FutureofWork\n",
        "RT @Volusion: Valentine's Day gifts from Volusion stores: http://t.co/A1iLXhi4Qf w/ @7seaspearls @STITCHchicago @artwareeditions http://t.c\u2026\n",
        "Hey there, @Volusion!  See you at the Miami Boat Show!\n",
        "@Volusion are your servers down? Mine and a friends sites aren't loading.\n",
        "@Volusion You're welcome, happy to share nice images :)\n",
        "@Volusion All of our sites are down and cannot reach tech support.\n",
        "RT @Volusion: Unique #ValentinesDay gifts from #Volusion merchants for your special guy: http://t.co/QyD2b8W4eN w/ @lotfautographs @drinkup\u2026\n",
        "RT @angelashah: Texas Roundup: @Volusion @seatsmart @XenexDisinfect Decisio @BioHouston @AveXisInc @Localeur @Favor http://t.co/8JDgI5iNXo \u2026\n",
        "RT @Volusion: @gwickes @lauriemccabe Great read! We share our 2015 ecommerce predictions for SMBs here: http://t.co/Mv790MZmdU.\n",
        "First real day working with @Volusion ... kind of like the Seattle play last night:( #beastmode not! Site down twice! http://t.co/voFBiVYo56\n",
        "@Volusion we are back online!\n",
        "The Wrexham FM Daily is out! http://t.co/SYVLz3BtTK Stories via @Volusion\n",
        "Thanks @yandex @itBit @robocoin @Volusion for the bounty!!!\n",
        "RT @angelashah: Texas Roundup: @Volusion @seatsmart @XenexDisinfect Decisio @BioHouston @AveXisInc @Localeur @Favor http://t.co/8JDgI5iNXo \u2026\n",
        "It looks like Ignify's CEO approval rating is 75 vs. @Volusion's 100 Vote: http://t.co/NQZad0h2QR\n",
        "RT @peter_sheldon: Q: What's fueling the growth of the top 3 mid-market eComm platforms (@Shopify, @Volusion, @Bigcommerce)? A: a whopping \u2026\n",
        "@Volusion servers are down. I should rely on self-hosted solutions instead. Their bandwidth costs are also too damn high.\n",
        "@Volusion @drewsanocki Thanks for the mentions. Happy to answer any questions here or back at: http://t.co/cXEJ44awRs\n",
        "RT @Volusion: Unique #ValentinesDay gifts from #Volusion merchants for your special guy: http://t.co/QyD2b8W4eN w/ @windydayweather @STITCH\u2026\n",
        "Q: What's fueling the growth of the top 3 mid-market eComm platforms (@Shopify, @Volusion, @Bigcommerce)? A: a whopping $337m of VC funding\n",
        "RT @peter_sheldon: Q: What's fueling the growth of the top 3 mid-market eComm platforms (@Shopify, @Volusion, @Bigcommerce)? A: a whopping \u2026\n",
        "RT @Volusion: FREE #ValentinesDay graphics: Merchants, use these free images to help promote your offers http://t.co/tZyBGZ9sRm http://t.co\u2026\n",
        "@Volusion Who is your CEO? Is he/she incompetent or just an idiot? One or two system crashes a YEAR might be acceptable. But not per MONTH.\n",
        "Texas Roundup: @Volusion @seatsmart @XenexDisinfect Decisio @BioHouston @AveXisInc @Localeur @Favor https://t.co/xAhrOOTv0R via @xconomy TX\n",
        "Texas Roundup: @Volusion @seatsmart @XenexDisinfect Decisio @BioHouston @AveXisInc @Localeur @Favor http://t.co/8JDgI5iNXo via @xconomy TX\n",
        "@Volusion Create the buzz you need to be a success using this new tool http://t.co/GRO2GcESXN\n",
        "#Austin\u2019s @Volusion Raises $55M to Further Develop E-Retail Software http://t.co/qWE20yuqKx #technology\n",
        "#Ecommerce software provider @Volusion raises $55 million. http://t.co/vLgnqj51EY\n",
        "RT @Volusion: #ValentinesDay is the 2nd biggest selling holiday of the year. Don't miss these tips: http://t.co/pStcY80o1K http://t.co/SnXs\u2026\n",
        "From @Volusion: personal connection keeps startup vibe alive during rapid #growth http://t.co/0bSA5fdDr8 #FutureofWork\n",
        "@alkerton @Shopify @Bigcommerce @Volusion congrats!\n",
        "Menswear Today is out! http://t.co/3xT8RYlJGm Stories via @AustinPriceless @Volusion\n",
        ".@Volusion is looking for a User Experience Designer in Austin (U.S.A.). More info: http://t.co/AYRP91qMs0 #jobs\n",
        "@Volusion integration: How it's more than sales order synchronisation http://t.co/NBnMlGkn5V #ecommerce\n",
        "RT @Volusion: #ValentinesDay is the 2nd biggest selling holiday of the year. Don't miss these tips: http://t.co/pStcY7rc28 http://t.co/ZYbH\u2026\n",
        "@Volusion it got back up pretty quick for me. Thanks for being speedy!\n",
        "RT @VentureBeat: .@Volusion raises $55M to fund its e-commerce shopping cart http://t.co/Ss4Zppx7Ee\n",
        "RT @angelashah: Texas Roundup: @Volusion @seatsmart @XenexDisinfect Decisio @BioHouston @AveXisInc @Localeur @Favor https://t.co/xAhrOOTv0R\u2026\n",
        "Trust @Volusion. Personal connection keeps startup vibe alive during growth http://t.co/VjiIfsx5yT #FutureofWork\n",
        "@Volusion your status updates are not really updates are they?\n",
        "Work in Progress for Appleseed Primitives: Custom @Volusion template for #ecommerce website #webdesign #html5 #rwd http://t.co/GLk1SiMBWo\n",
        "@Volusion Thank you for the speedy update! We were scrambling to find a way to reach your team to correct our downtime.\n",
        "@Volusion 20 #eCommerce Website A/B Testing Ideas To Boost Online Sales http://t.co/JVbEVCi3ki\n"
       ]
      }
     ],
     "prompt_number": 165
    }
   ],
   "metadata": {}
  }
 ]
}