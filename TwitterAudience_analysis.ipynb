{
 "metadata": {
  "name": "",
  "signature": "sha256:8937e8262d8adc40596d2795b9d2d9f84c377bb9cbf4c407e823a50557540b0a"
 },
 "nbformat": 3,
 "nbformat_minor": 0,
 "worksheets": [
  {
   "cells": [
    {
     "cell_type": "code",
     "collapsed": false,
     "input": [
      "#this script takes the biographical information from the volusion twitter dataset\n",
      "import csv\n",
      "import matplotlib.pyplot as plt\n",
      "import re\n",
      "import pandas as pd\n",
      "import time\n",
      "import tweepy\n",
      "import numpy as np\n",
      "import nltk\n",
      "import matplotlib.pyplot as plt\n",
      "import pylab\n",
      "%pylab inline\n"
     ],
     "language": "python",
     "metadata": {},
     "outputs": [
      {
       "output_type": "stream",
       "stream": "stdout",
       "text": [
        "Populating the interactive namespace from numpy and matplotlib\n"
       ]
      },
      {
       "output_type": "stream",
       "stream": "stderr",
       "text": [
        "WARNING: pylab import has clobbered these variables: ['pylab']\n",
        "`%matplotlib` prevents importing * from pylab and numpy\n"
       ]
      }
     ],
     "prompt_number": 146
    },
    {
     "cell_type": "code",
     "collapsed": false,
     "input": [
      "key = \"3XfyK3uuN3fOdGV17W0mjA\"\n",
      "secret = \"riCmYWbhxT4DEZZ7hchTk26IZHhF6woJHvcZn9fWbnc\"\n",
      "twitter_token = \"325027656-gJ6LK5O9U39J79HnszHNiMNSCGskPTrpW9xV8lu0\"\n",
      "twitter_tokensecret = \"Ymy2EDP7o4MpfrV9TumlcHTY3SaNwZNTXBJKtXFmKLsr0\"\n",
      "auth = tweepy.OAuthHandler(key, secret)\n",
      "auth.set_access_token(twitter_token, twitter_tokensecret)\n",
      "\n",
      "api = tweepy.API(auth)"
     ],
     "language": "python",
     "metadata": {},
     "outputs": [],
     "prompt_number": 2
    },
    {
     "cell_type": "code",
     "collapsed": false,
     "input": [
      "#function calls for twitter users\n",
      "\n",
      "#standardize the text strings, remove special characters\n",
      "regex_strings = (\n",
      "    # HTML tags:\n",
      "     r\"\"\"<[^>]+>\"\"\"\n",
      "    ,\n",
      "    # Twitter username:\n",
      "    r\"\"\"(?:@[\\w_]+)\"\"\"\n",
      "    ,\n",
      "    # Twitter hashtags:\n",
      "    r\"\"\"(?:\\#+[\\w_]+[\\w\\'_\\-]*[\\w_]+)\"\"\", \n",
      "    \"\"\"http[s]?://(?:[a-zA-Z]|[0-9]|[$-_@.&+]|[!*\\(\\),]|(?:%[0-9a-fA-F][0-9a-fA-F]))+\"\"\"\n",
      "    ,\n",
      "    # Words with apostrophes or dashes, Numbers, including fractions, decimals,   # Words without apostrophes or dashes.\n",
      "    r\"\"\"\n",
      "    (?:[+\\-]?\\d+[,/.:-]\\d+[+\\-]?)\"\"\"\n",
      "    )\n",
      "\n",
      "word_re = re.compile(r\"\"\"(%s)\"\"\" % \"|\".join(regex_strings), re.VERBOSE | re.I | re.UNICODE)\n",
      "\n",
      "#string encode\n",
      "def str_encode(s):\n",
      "    if type(s) == unicode: \n",
      "        return s.encode('utf8', 'ignore')\n",
      "    else:\n",
      "        return str(s)\n",
      "\n",
      "\n",
      "#tokenize tweets\n",
      "def my_tokenize(tweet):\n",
      "    if tweet != []:\n",
      "        y =str_encode(tweet)\n",
      "        y = word_re.sub('',y)\n",
      "        print y\n",
      "        #y.encode('utf8')\n",
      "        try:\n",
      "            tokens = re.findall(r\"[\\w']+|[.,!?;]\", y.rstrip())\n",
      "            return tokens\n",
      "        except UnicodeDecodeError:\n",
      "            tokens = re.findall(r\"[\\w']+|[.,!?;]\", y.rstrip())\n",
      "            return tokens\n",
      "        except TypeError:\n",
      "            tokens = re.findall(r\"[\\w']+|[.,!?;]\", y.rstrip())\n",
      "            return tokens\n",
      "\n",
      "    else:\n",
      "        tokens = []\n",
      "        return tokens\n",
      "#def get_tweet_for_userlist(userlist , #)\n",
      "\n",
      "def get_tweets(userid, ntweets):\n",
      "    tweets = []\n",
      "    hashtags= dict()\n",
      "    try:\n",
      "        for i in tweepy.Cursor(api.user_timeline, id=userid, include_rts=True).items(ntweets):\n",
      "            i.text\n",
      "            for x in i.entities['hashtags']:\n",
      "                print x\n",
      "                if x['text'] in hashtags.keys():\n",
      "                    hashtags[x['text']] += 1\n",
      "                if x not in hashtags.keys():\n",
      "                    hashtags[x['text']] = 1            \n",
      "            print i.text, i.entities['hashtags']\n",
      "        return [tweets, hashtags]\n",
      "    except tweepy.TweepError:\n",
      "        tweets = []\n",
      "        hashtags = []\n",
      "        return [tweets, hashtags]\n",
      "\n",
      "        \n",
      "def pull_bio(userid):\n",
      "    user = {}\n",
      "    user['location'] = api.get_user(userid).location\n",
      "    user['descript'] = api.get_user(userid).description\n",
      "    user['follower_count'] = api.get_user(userid).followers_count\n",
      "    user['handle'] = api.get_user(userid).screen_name\n",
      "    return user\n",
      "\n",
      "def recenttweets(userid):\n",
      "    tweets = []\n",
      "    hashtags = dict()\n",
      "    for i in api.user_timeline(userid):\n",
      "        i.text\n",
      "        for x in i.entities['hashtags']:\n",
      "            print x\n",
      "            if x['text'] in hashtags.keys():\n",
      "                hashtags[x['text']] += 1\n",
      "            if x not in hashtags.keys():\n",
      "                hashtags[x['text']] = 1            \n",
      "        print i.text, i.entities['hashtags']\n",
      "        time.sleep(1)\n",
      "    return [tweets, hashtags]\n",
      "\n",
      "#class objects\n",
      "\n",
      "class twtr(object):\n",
      "    '''data structure for tweet'''\n",
      "    def __init__(self, tweet):\n",
      "        self.created_at= ''\n",
      "        self.tweet= tweet\n",
      "        self.userid = ''\n",
      "        self.tweetid = ''\n",
      "        self.handle = ''\n",
      "        \n",
      "def str_encode(s):\n",
      "    if type(s) == unicode: \n",
      "        return s.encode('utf8', 'ignore')\n",
      "    else:\n",
      "        return str(s)\n",
      "\n",
      "    \n"
     ],
     "language": "python",
     "metadata": {},
     "outputs": [],
     "prompt_number": 122
    },
    {
     "cell_type": "code",
     "collapsed": false,
     "input": [
      "#get dataset\n",
      "\n",
      "twitter = pd.DataFrame.from_csv('Volusion_classed.csv', index_col= True)\n"
     ],
     "language": "python",
     "metadata": {},
     "outputs": [],
     "prompt_number": 70
    },
    {
     "cell_type": "code",
     "collapsed": false,
     "input": [
      "twitter.columns"
     ],
     "language": "python",
     "metadata": {},
     "outputs": [
      {
       "metadata": {},
       "output_type": "pyout",
       "prompt_number": 71,
       "text": [
        "Index([u'Unnamed: 0', u'created_at', u'tweetid', u'userid', u'handle', u'tweet', u'Sentiment', u'Dataset', u'Probability', u'Pred_Sent', u'assigned_sent'], dtype='object')"
       ]
      }
     ],
     "prompt_number": 71
    },
    {
     "cell_type": "code",
     "collapsed": false,
     "input": [
      "userid_list = list(set(twitter[twitter['Dataset'] == 'Volusion']['userid']))\n"
     ],
     "language": "python",
     "metadata": {},
     "outputs": [],
     "prompt_number": 72
    },
    {
     "cell_type": "code",
     "collapsed": false,
     "input": [
      "userid_list.extend(list(set(twitter[twitter['Dataset'] == 'Mozu']['userid'])))"
     ],
     "language": "python",
     "metadata": {},
     "outputs": [],
     "prompt_number": 73
    },
    {
     "cell_type": "code",
     "collapsed": false,
     "input": [
      "len(userid_list)"
     ],
     "language": "python",
     "metadata": {},
     "outputs": [
      {
       "metadata": {},
       "output_type": "pyout",
       "prompt_number": 74,
       "text": [
        "228"
       ]
      }
     ],
     "prompt_number": 74
    },
    {
     "cell_type": "code",
     "collapsed": false,
     "input": [
      "#user information\n",
      "userlist = {}\n"
     ],
     "language": "python",
     "metadata": {},
     "outputs": [],
     "prompt_number": 13
    },
    {
     "cell_type": "code",
     "collapsed": false,
     "input": [
      "for user in userid_list:\n",
      "    if list(userid_list).index(user) % 10 == 0:\n",
      "        time.sleep(5)\n",
      "    if user in userlist.keys():\n",
      "        continue\n",
      "    if user not in userlist.keys():\n",
      "        myuser = pull_bio(user)\n",
      "#        [tweet, hashtags] = get_tweets(user, 200)\n",
      "#        myuser['tweets'] = tweet\n",
      "#        myuser['hashtags'] = hashtags\n",
      "#        myuser['tokens'] = my_tokenize(tweet)\n",
      "        userlist[user] = myuser"
     ],
     "language": "python",
     "metadata": {},
     "outputs": [],
     "prompt_number": 77
    },
    {
     "cell_type": "code",
     "collapsed": false,
     "input": [
      "len(userlist)"
     ],
     "language": "python",
     "metadata": {},
     "outputs": [
      {
       "metadata": {},
       "output_type": "pyout",
       "prompt_number": 79,
       "text": [
        "228"
       ]
      }
     ],
     "prompt_number": 79
    },
    {
     "cell_type": "code",
     "collapsed": false,
     "input": [
      "#find average\n",
      "follower_counts = []\n",
      "userid = []\n",
      "for u in userlist.keys():\n",
      "    follower_counts.append(userlist[u]['follower_count'])\n",
      "    userid.append(u)\n",
      "    "
     ],
     "language": "python",
     "metadata": {},
     "outputs": [],
     "prompt_number": 80
    },
    {
     "cell_type": "code",
     "collapsed": false,
     "input": [
      "x = sorted(follower_counts, reverse=True)[1]\n",
      "print x"
     ],
     "language": "python",
     "metadata": {},
     "outputs": [
      {
       "output_type": "stream",
       "stream": "stdout",
       "text": [
        "72524\n"
       ]
      }
     ],
     "prompt_number": 148
    },
    {
     "cell_type": "code",
     "collapsed": false,
     "input": [
      "userid[follower_counts.index(x)]"
     ],
     "language": "python",
     "metadata": {},
     "outputs": [
      {
       "metadata": {},
       "output_type": "pyout",
       "prompt_number": 86,
       "text": [
        "67026664"
       ]
      }
     ],
     "prompt_number": 86
    },
    {
     "cell_type": "code",
     "collapsed": false,
     "input": [
      "userlist[userid[follower_counts.index(x)]]['handle']"
     ],
     "language": "python",
     "metadata": {},
     "outputs": [
      {
       "metadata": {},
       "output_type": "pyout",
       "prompt_number": 87,
       "text": [
        "u'awwwards'"
       ]
      }
     ],
     "prompt_number": 87
    },
    {
     "cell_type": "code",
     "collapsed": false,
     "input": [
      "#some summary statistics on who follows volusion:\n",
      "print 'average tweeter has %d followers' % np.mean(follower_counts)\n",
      "print 'most influential tweeter has %d followers' % np.max(follower_counts)\n",
      "print 'most influential tweeter is ' + userlist[userid[follower_counts.index(np.max(follower_counts))]]['handle']"
     ],
     "language": "python",
     "metadata": {},
     "outputs": [
      {
       "output_type": "stream",
       "stream": "stdout",
       "text": [
        "average tweeter has 3709 followers\n",
        "most influential tweeter has 200673 followers\n",
        "most influential tweeter is BuzzFeedBen\n"
       ]
      }
     ],
     "prompt_number": 83
    },
    {
     "cell_type": "code",
     "collapsed": false,
     "input": [
      "plt.hist(follower_counts)\n",
      "plt.xlabel('Followers')\n",
      "plt.title('Users by Followers ')\n",
      "savefig('Followers.png')"
     ],
     "language": "python",
     "metadata": {},
     "outputs": [
      {
       "metadata": {},
       "output_type": "display_data",
       "png": "[encoded data removed]",
       "text": [
        "<matplotlib.figure.Figure at 0xe5bd208>"
       ]
      }
     ],
     "prompt_number": 156
    },
    {
     "cell_type": "code",
     "collapsed": false,
     "input": [
      "a = np.median(follower_counts)"
     ],
     "language": "python",
     "metadata": {},
     "outputs": [],
     "prompt_number": 97
    },
    {
     "cell_type": "code",
     "collapsed": false,
     "input": [
      "#process bio description\n",
      "tokens = []\n",
      "for x in userlist.keys():\n",
      "    myt = my_tokenize(userlist[x]['descript'])\n",
      "    tokens.extend(myt)"
     ],
     "language": "python",
     "metadata": {},
     "outputs": [
      {
       "output_type": "stream",
       "stream": "stdout",
       "text": [
        "We provide the simplest business process automation and integration solutions to the most complex requirements.\n",
        "We provide a full range of Web Design Services, E-commerce Solutions, CMS,  SEO, New Media Web solutions for any business. \n",
        "Taste and see that the Lord is good; blessed is the man who takes refuge in him. Psalm .\n",
        "Brooklyn Welch \u2764\ufe0f\n",
        "The place to discover all the future lighting trends and news. LED, Plasma, Incandescent, CFL and more!\n",
        "PhD in Cancer Biology/Cystic Fibrosis researcher now, an avid Mac user, gamer, amateur music creator, art and fitness enthusiast. Trader.\n",
        "\n",
        "SOCIAL MEDIA MANAGEMENT TEAM: ...We are young professionals who are trained to perform various functions in general business operations.\n",
        "\u00abThere are two kinds of humor. One makes us chuckle about our foibles and shared humanity. The other holds people up to public ridicule.\u00bb \r\n",
        "Molly Ivins\n",
        "...A random guy...Living down under the down under...\n",
        "\n",
        "The leading source of innovation business news - Boston, Boulder/Denver, Detroit, New York, Raleigh-Durham, San Diego, San Francisco, Seattle, Texas, Wisconsin.\n",
        "Safety Training Products And Services\n",
        "\n",
        "Business reporter at  covering DFW's startup scene, small biz/entrepreneurship, banks and financial services. Send story tips to hcho.com.\n",
        "All things HTML5 brought to you by the team .\n",
        "5BestThings works to take highest trust to users , and this what we are working on , Finally it's your website so share edit or let us know what do you think\n",
        " (launching soon) posts and promote webinars from around the world, follow us for instant updates. We will invite you when launched.\n",
        "Can we at least keep the bikes?\n",
        "Automated Shopping Cart Migration Service\r\n",
        "\n",
        "Marketing Program Manager, Volusion (tweets = mine). Music, tech, and anything that makes me laugh.\n",
        "VP, IT Application Services at UnitedHealth Group. \n",
        "Commercialization of IP, Apps, Big Data, Cloud & Mobility. Angel Investor in early stage startups.\n",
        "Islam, software engineer, \u2665 nira ramadhaniaty\n",
        "Technology Leader | VP & Principal Solutions Consultant @ Ericsson | Cloud Runner | PaaS Man | Strategist |  Scientist | Innovator | Husband | Dad | Grateful\n",
        "\n",
        "Premier Luxury Lighting\u00a0and Home Decor\n",
        "I don't care who you are, I will pet your dog.\n",
        "Business News, Tips & Solutions for  and .         \n",
        "sql, data base, IT, VoltDB, sql server\n",
        "I am\n",
        "The wonderful illusterous sound of a praise filling the atmosphere. A Diamonds song are resilant and shine the brightest because they are priceless.\n",
        "The leading accounting integration platform for ,  and . We support 40+ ERPs including Microsoft Dynamics, Sage, NetSuite, SAP, Epicor & more.\n",
        "Website & Graphic Designer, Owner of Flying Orange ! Enjoy networking with designers and marketers for all things business related.\n",
        "Javascript Digest brought to you by \n",
        "Information resource  about  &  for your Project,  & Company.  links to world network of Investors, VC, BA Mentors\n",
        "We are changing the world of mobile advertising\n",
        "Created by Volusion, Inc., Mozu is the only platform designed to enable limitless commerce for enterprise businesses through the industry's most robust API.\n",
        "Creating trust for buyers and sellers online. Try it free for 3 months (no credit card needed) with code TRUST1502 at \n",
        "Largest collection of articles and blogs\n",
        "Director of Sales                      Helping craft digital experiences based on interpersonal design, multi-device imagination & custom technology.\n",
        "Publisher  Brands:   & .  Living the good life in the . Love the Steelers, Pens and Bucs.\n",
        "\n",
        "sharing things with the people you love and enjoy traveling to historically places\n",
        "IT analyst; Co-founder, SMB Group. Passionate about helping SMBs and entrepreneurs apply tech solutions to grow their businesses!\n",
        "Yes\n",
        "Londoner, Social Media Addict & Marketer, Coder, Love To Run & Have Fun Along The Way. Oh and I tweet a lot, just the good stuff :)\n",
        "\n",
        "Be Real. Take A Stand. Change Lives.\n",
        "Boosting your  performance through . News, views, resources & solutions for  & .   \n",
        "Co-Founder, former CEO, Magento (acquired by eBay). Investor: , , .\n",
        "We are dedicated to providing superior training focused on critical issues facing students and educators today. \r\n",
        "  \n",
        "Senior Consultant for Financial Services Industry - Sports Enthusiast - Excited about Startups & Innovations -      \n",
        "IG:  | Twitter: \n",
        "Community Radio ON-LINE for Wrexham and the world. now part of  or \n",
        "Homeschooling mom and publisher of curriculum based learning tools for homeschooling families.  Lots of free stuff!\n",
        "Principal Analyst at Forrester\n",
        "Intimate Apparel & Lingerie   & \n",
        "eCommerce professional\n",
        "\u2728 \u2728 \u2728Soy Seloso lose,Tengo  Defectos Lose,Pero Tengo Una Gran Virtud, Cuando Digo Te Quiero, Lo Digo Enserio(\u10e6\u02d8\u2323\u02d8)\u2665 \u2112\u2661\u24e5\u212f \u311a\u2661 \u24e4\u2728 \u2728 \u2728\n",
        "What's going on Houston? Join  and get found online, promote your business, make warm connections, boost SEO and get leads now\n",
        "We build technologies to help apparel retailers personalize the customer experience in-store and online.\n",
        "Outsmart your competition! Owler tracks and reports on your competitors, clients and industry. Register FREE at \n",
        "\n",
        "What's going on San Antonio? Join  and get found online, promote your business, make warm connections, boost SEO and get leads now\n",
        "Freelancer | Digital Marketing | Web Design | Website Content Management | eCommerce | SEO | Identity Branding  \n",
        "Products reviews, news,  and  your . We market and promoting  your  to  .    \ufffdp ...\n",
        "Monster is the leading online resource for captivating visual marketing solutions for your trade show, event, and promotional marketing strategies.\n",
        "Life is short; wear nice undies!  Find classic undies and American chenille robes at \n",
        "Resume Drop - Job Matcher adalah satu perkhidmatan percuma suai jawatan berdasarkan kelayakan dan pengalaman.\n",
        "Design/front end dev, lettering. Designer at Shopify.\n",
        "\u0411\u0415\u0421\u041f\u041b\u0410\u0422\u041d\u041e\u0415 \u0440\u0430\u0437\u043c\u0435\u0449\u0435\u043d\u0438\u0435 \u0441\u0442\u0430\u0442\u0435\u0439 \u0441 3 \u043d\u0435\u0442\u0435\u043c\u0430\u0442\u0438\u0447\u0435\u0441\u043a\u0438\u043c\u0438 \u0433\u0438\u043f\u0435\u0440\u0441\u0441\u044b\u043b\u043a\u0430\u043c\u0438 \u043d\u0430\u0432\u0441\u0435\u0433\u0434\u0430\n",
        "The Marketing Platform for Commerce\n",
        "\n",
        "\u732b\u3092\u3053\u3088\u306a\u304f\u611b\u3057\u3001\u30da\u30eb\u30b7\u30e32\u5339\u3092\u9023\u308c\u3066\u30b8\u30e3\u30ab\u30eb\u30bf\u3078\u6765\u307e\u3057\u305f\u3002input\u3092\u4e3b\u76ee\u7684\u306b\u3057\u3066\u3044\u308b\u306e\u3067\u6bd4\u8f03\u7684\u9759\u304b\u3067\u3059\u304c\u300c\uff01\u300d\u3084\u300c\uff1f\u300d\u3092\u898b\u3064\u3051\u308b\u3068\u6642\u3005\u30b9\u30a4\u30c3\u30c1\u304c\u5165\u308a\u307e\u3059\u3002\n",
        "Web Designer at Volusion. Living in . Born in .\n",
        "IG:  | Twitter:  Email:Teangelo_Pierre.com \n",
        " for your . Increase sales & earn  online,  tools, affiliate marketing     \n",
        "Encourager, Entrepreneur, Health Insurance, Sales, Marketing, Customer Service Professional.\n",
        "Developers of SupportPoint:\r\n",
        "the right information - for the right person - at the right time\n",
        "We connect bits. You connect dots -atomstobits.com |      \n",
        "Grow your social audience and get more sales with the Justuno  Incentive platform!  sites!  There's just one Justuno!\n",
        "The Fulfillment Lab offers complete solutions for , , , ,  and  for marketers and companies.\n",
        "The Violet Crown City :  | State directory  | 50 states \n",
        "Texas is Wide Open for Business\n",
        "  | | |  | | |   | | \n",
        "I am a long-time entrepreneur and Internet marketer. I now spend my time running and marketing my Amazon business mostly. I'm the CEO and CMO of two businesses.\n",
        "is a Social Local (Wifi BLE) Mobile (App) platform for Proximity Marketing engagement and loyalty - H2H   - get.it\n",
        "The N. American distributor of David Trubridge Design serving wholesale & trade. Eco conscious award winning lighting inspired by NZ myths, legends & landscapes\n",
        "Bringing you the latest and greatest in the world of technology news!\n",
        "\n",
        "I love Austin, SEO, eCommerce, Retail, Food, Social Media, TV shows, a lil Tech & my dog, Zoey. I tweet what I find interesting.\n",
        "Husband.Father. Mobile App Marketing & Analytics Focused. Waylon, Willie & Johnny provide the soundtrack.\n",
        "\n",
        "Brand Labs is more than you think it is... unless you think it's the best damn Volusion service provider in the world.  Then it's exactly what you think it is.\n",
        "Runner, dog lover (!) and husband....amongst other things. Oh, and all things ecommerce.\n",
        "Venture Capital News & Information. Find Latest news on Venture Funding Rounds completed.\n",
        "I spend my days in eCommerce , but my nights as a regular guy (). Comments and posts are mine, not necessarily same as \n",
        "pro photographer . truth teller.\n",
        "Visit us at: \n",
        "CEO-Founder at The Umoya Project (NGO) / Digital Commercial and Business Development Manager at BlackSip / E-Commerce / Digital Advertising / Entrepreneur\n",
        "Check out Java Jobs\n",
        "Editor,  Texas || Recovering Expat || Bylines in    || Texas Ex &  Fellow\n",
        "Coleccionista de momentos. Soy fotografo, de esos buenos que existiamos antes de que instagram existiera. Mi otra pasion es el America, Americanista de coraz\u00f3n\n",
        "When it comes to tabletop fountains, we know our stuff. Check us out now: \n",
        "SVP  - helping merchants accelerate growth and profits. Co-Active Coach. Proud father of 2 boys. Insatiable eater of good food. Aspiring surfer.\n",
        "Recognition & Prestige for Web Designers & Developers. We bring you the best of the web each day. Also tweeting  \n",
        "startups, angels, venture capital. Fresh 24 hours a day.\n",
        "Internet Retailer managing editor,  reporter,  geek, , increasingly optimistic Cubs fan.\n",
        "Owler makes you smarter. Stay informed on your clients and competitors. Owler is the web and mobile source for business news and alerts.\n",
        "SeatSmart is the smart way to shop for event tickets! Our Preferred Inventory is ALWAYS guaranteed cheaper than StubHub.\n",
        "Professional spammer...I mean content marketer .     \n",
        "venture, capital, ventures, startups, funding, financing, funding, rounds, venture capitalists, VC, funds\n",
        "Updates, recommendations & musings from the web's best source of fine wines & hard-to-find spirits.\n",
        "Over the last 10+ years, I have developed and enhanced a wide range of web-based applications and mobile applications.\n",
        "\n",
        "Freelance full-time photographer and DJ in TX, most often found at a taco truck or stealing jokes.\n",
        "Yogi, Traveler & Tech Recruiter madly in love with San Francisco.\n",
        "Construyendo la red mas grande de negocios en internet.\n",
        "I work for . I'm pretty good at telling jokes and singing songs. I like movies, sneakers, and passing the Turing test.\n",
        "VP & Principal Analyst at Forrester Research focusing on eCommerce, mobile commerce and omni-channel technology.\n",
        "Latest news and developments from the cyberworld.\n",
        "Web developer - Joomla, Magento sales optimisation, Internet consultant, SEO, husband, father, historian, drummer....\n",
        "SellerExpress helps you manage your business on Amazon, Rakuten Play, eBay, Bigcommerce, ekmPowershop, Volusion and Magento.\n",
        "Affordable Custom Web Design, Print Design, and Graphic Design. We specialize in custom  themes and eCommerce templates for .\n",
        "I am the Singer/Songwriter/Guitarist in . I like music, unhealthy food, Anime (SAO), Disneyland, video games, and friendship. Instagram: \n",
        "Everything Related to Vikings on the History Channel!\r\n",
        "A nice mix of lore, history, and other bits of Viking loot!\r\n",
        "\n",
        "Somos padres, nos encanta aprovechar nuestro tiempo libre para estar en fam\u00edlia y disfrutar de la vida.\n",
        "Random thoughts on technology, food, work, travel, politics and life.\n",
        "buscar la felicidad es solo otra excusa para no ser feliz\n",
        " Inc is a company that provides our customers with high quality name brand office supplies at a quantity discount, with free shipping.\n",
        "Connecting dots of influence for business growth | Strategic technology marketer - mobile & social | Tech gadgets | Hobby photographer | Dallas startups\n",
        "Ecommerce Product Data Entry | Outsource Data Entry Services India | Online Product Entry Services India |  | \n",
        "Daily design news and inspirations, selected works w/ paid design contests. Join da hunt!\n",
        "On-Line Retailer of Mens Suits, Sport Coats, Blazers, shirts, footwear, accessories and Tuxedos. .\n",
        "Dark Art\n",
        "President at GetCertified4Less\n",
        "\n",
        "Retail TouchPoints delivers cutting edge content to retail executives designed to improve the customer experience in the new world of cross-channel retailing.\n",
        "\n",
        "\n",
        "Want to be RICH? |||Making Money with God - Jesus, the Financial Expert rescues you from selfish poverty to selfless wealth. Get a copy at \n",
        "Join the revolution & redefine yourself!\n",
        "Magnificent motivational speaker, blogger, radio personality, Youtube show -Voluptuous Diva Revolution Starts July 2013\n",
        "Entrepreneur. Obsessive reader. In Permanent Beta. Working to become a Growth Hacker\n",
        " news for  retailing professionals\n",
        "iQmetrix is a leading provider of end-to-end retail solutions.\n",
        "Mobile / Social Advertising  | Data Driven Marketing | Mobile Apps Monetization | Bereano Partners is open to collaboration.\n",
        "Follow for Tech info!\n",
        "Austin attorney () w/ tech background. Father of 3. Strong interest in tech and legal startups. T shaped lawyer - (relatively) normal shaped human.\n",
        "Creative Job Feed gathers the best Creative jobs in the UK from the top sources and shows them all in one place.\n",
        " and video producer. Watch award-winning short film  at  View more work at \n",
        "We Sell Star Wars, Marvel, GI Joe, POP!, The Walking Dead & More. Excellent Service & Packing With Care. \n",
        "FB/IG/G+/YT/T: Dorksidetoys\n",
        "           \n",
        "Olio&Olive offers the finest Italian gourmet olive oil, balsamic vinegar, pasta, cheese, cold cuts, tomato sauces, olives and more.\n",
        "\n",
        "Shopatron has revolutionized the way retail channels work together to put products in the hands of online shoppers.\n",
        "Perry & Laura McFarlin publishers of Can-Do Maps & Guides\r\n",
        "\r\n",
        "\n",
        "Payment security, simplified.\n",
        "Bringing you news and resources to help you with your web marketing needs.\n",
        "Sheri. Straightedge princess and woman warrior. Pro Wrestling aficionado. Infatuated with Jamie Campbell Bower.\n",
        "\n",
        "Located in the beautiful Wicker Park neighborhood of Chicago | .1570  1937 N Damen Ave | \n",
        "Digital Marketing Consultant & Ecommerce Specialist, Google AdWords & Analytics, SEM & SEO, WordPress Websites & Webmaster\n",
        "\n",
        "Stay informed on your favorite companies. Owler is the web and mobile source for news alerts and company profiles.\n",
        "Reader, Reviewer, Impoverished Lawyer, Foodie, Editor, Blogger, and Discusser of all things random. (I don't auto follow but try to respond to all )\n",
        "We provide merchant accounts for Canadian, US and international businesses, with a specialization in multiple-currency processing.\n",
        "Entrepreneur, Marketer, Designer, and Public Speaker. I love UX Design, SEO, Growth Hacking, E-commerce, Social Media, and Helping Businesses. Founder \n",
        "Write to spread knowledge and savings for \n",
        "Building better travel gear, and getting you to your destination \u2013 faster, happier, and more productive.\n",
        "Want to be RICH? |||Making Money with God - Jesus, the Financial Expert rescues you from selfish poverty to selfless wealth. Get a copy at \n",
        "Serial Entrepreneur, Designer - who's life goal is to empower, upgrade and better each indivdual by challenging the status quo.\n",
        " evangelist | Versatile visualizer | Alliteration aficionado |  Broad(band) blogger | Movie maker | Kinetic keynoter | Formula1 Freak\n",
        "The brains/brawn behind  & offer consulting. We tweet our thoughts & about     .\n",
        "\n",
        "I'm freelance developer & found new avenues for my earning (Believe me I'm earning $15000 mo) So the small ones (where I was earning $5000 mo) is kept open\n",
        "Technology- Opinions all my own- \n",
        "Director of Business Development Emerson EMEA\n",
        "Worldwide distributor of personal protective equipment (PPE), industrial and safety supplies. Warehouses nationwide \n",
        "International Ambassador, Motivational speaker, and Global Business woman.. She is expressive, engaging, versatile, charismatic, funny, and entertaining.\n",
        "Business Networking is a worldwide platform. Promote & increase sales inviting people into your . Use  the power of   \n",
        "World Largest online freelancer jobs. Updated jobs everydays\n",
        "Want to be RICH? |||Making Money with God - Jesus, the Financial Expert rescues you from selfish poverty to selfless wealth. Get a copy at \n",
        "Covering the world of business. Powered by .\n",
        "A renowned IT company, having expertise in mobile and web application development and testing services for more than a decade, Serving clients in 28+ countries.\n",
        "We deliver the latest Venture Capital news everyday\n",
        "\n",
        "Boca Juniors Fan. EMBA at . E-Commerce Consultant at .\n",
        "New york, romantic, lovely, like musics, travels\n",
        "Follow the retail industry by following us! We cover breaking news, retail IT, retail startups, and much more. Get the daily newsletter: \n",
        "Chicagoan.   and  Strategist.  Do-Gooder.\n",
        "Storyteller at BloomReach, developer of a big data & machine-learning-based personal discovery platform for the Web. Interests: Big data, e-commerce, baseball.\n",
        "\u4e16\u754c\u306e\u30d9\u30f3\u30c1\u30e3\u30fc\u30ad\u30e3\u30d4\u30bf\u30eb\u306e\u82f1\u8a9e\u306e\u30cb\u30e5\u30fc\u30b9\u3092\u4e2d\u5fc3\u306b\u3001VC\u306b\u95a2\u3059\u308b\u30cb\u30e5\u30fc\u30b9\u3092\u7d39\u4ecb\u3057\u3066\u304d\u307e\u3059\u3002\n",
        "\n",
        "eCommerce marketing consultancy helping retailers increase traffic, average order value and repeat customers. Formerly  managed by \n",
        "BioHouston is the hub of an active and growing life science cluster\n",
        "Software Solutions Provider\n",
        "I know you people are crazy. I can spot my own kind a mile away.\n",
        "The 4th Annual Connected Consumer Webinar Series will take place the week of March 9th-13th.  Up to 10 online sessions covering the retail customer experience!\n",
        "San Diego's Bike Shop\n",
        "ecommerce, business websites, retail, entrepreneurs, sales, selling, shopping, etail, commerce, online shopping\n",
        "Unilever eCommerce team loving the possibilities digital creates to serve our shoppers better with our brands tweets by  ,  & \n",
        "a guy (mostly mineral, partially vegetable).. also, the non-food side of the Don behind \n",
        "crazy, crazy, so many deals and shopping coupons so little time and money.\n",
        "Business Process Automation and Integration platform. SAP Certified Integration | Sage Development Partner |  Microsoft Gold Partner for Application Development\n",
        "\n",
        "JCB\u2192Sony\u2192Recruit\u2192Rakuren\u2192TOYOTA FINANCE co. Creditcard/NFC/Felica/Payment/Mobile/Media/Jointventure/Ads/etc... Love Books,Comics.Small Investor.Singularitarian.\n",
        "Technology geek, API evangelist, Commerce Architect at Elastic Path Software.\n",
        "Creative Director / Producer / Web Designer / Photographer. Gay/Single. the never giving up. the hearts undone. we are the ever-refusing to fold.\n",
        "Writer for  source of ,   and  news from around the world. Lover of fashion, healthy eating, social media and new tech.\n",
        "CDN & Internet Performance in Asia. Contribute to a faster Web. Tweet about CDN, Security, eCommerce & overall Performance.\n",
        "Retweets by our Sponsor - . New/Used  Parts, Rebuilt Engines, Drive Motors & Transaxles. Save money! Call Brad 604 .\n",
        "We provide simple yet powerful online meetings. Try us free for 30 days. Powered by .\n",
        "Expert website builders reviews, in-depth comparisons and free tips on website building - everything you need to design an exceptional website today!\n",
        "GetMyBoat connects boats with people who want to rent them. Worldwide.\n",
        "\n",
        "Author of THE SECRET SIDE OF EMPTY, SLJ Top 10 Latino Books of 2014. Jersey girl, lover of green things & small triumphs. Repped by Susan Cohen, Writers House.\n",
        "\n",
        "Find the latest jobs/careers in UK. Follow our tweet\n",
        "OnlineRetail is the industry aggregator and distributor of ecommerce goodness for the retail industry.\n",
        "HOSTGATOR25OFF is the best 25% off hostgator coupons code  Host wordpress, joomla, drupal, magento, wiki, phpbb, MySQL, PHP, ecommerce\n",
        "Knowsis Biotech News Feed\n",
        "Editor, mCommerce Daily, MediaPost, Columnist, NY Times Business Bestselling Author of Mobile Influence, Internet of Everything (IoE) expert, Keynote Speaker\n",
        "Technology news site covering the Austin and San Antonio technology community.\n",
        "BuzzFeed Editor-in-Chief. Beats working for a living. Email or gchat me at ben.com. AIM benobserver.\n",
        "Cazoomi Asia enables business applications to talk to each other using SyncApps\u00ae, the Integration Cloud for Small Business.\n",
        "Engineering post-graduation student, Entrepreneurship & Innovation enthusiast, free-thinker, Digital Marketing, Social Media and the original Library Girl ;)\n",
        "Covering the world of technology. Powered by \n",
        "Savvy Marketers' Toolbox.\n",
        "The get4it\u00ae pricing intelligence platform allows for unrivaled visibility into your competitiveness on ,  and across  platforms.\n",
        "We love helping our  retailers reduce out of stocks & improve warehouse efficiency with our cloud based inventory & warehouse management app.\n"
       ]
      }
     ],
     "prompt_number": 123
    },
    {
     "cell_type": "code",
     "collapsed": false,
     "input": [
      "word_count = {}\n",
      "for w in tokens:\n",
      "    if w in word_count.keys():\n",
      "        word_count[w] += 1\n",
      "    else:\n",
      "        word_count[w] = 1"
     ],
     "language": "python",
     "metadata": {},
     "outputs": [],
     "prompt_number": 126
    },
    {
     "cell_type": "code",
     "collapsed": false,
     "input": [
      "popular_words = sorted(word_count, key = word_count.get, reverse = True)"
     ],
     "language": "python",
     "metadata": {},
     "outputs": [],
     "prompt_number": 129
    },
    {
     "cell_type": "code",
     "collapsed": false,
     "input": [
      "popular_words[15:30]"
     ],
     "language": "python",
     "metadata": {},
     "outputs": [
      {
       "metadata": {},
       "output_type": "pyout",
       "prompt_number": 141,
       "text": [
        "['We',\n",
        " 'with',\n",
        " 'news',\n",
        " 'on',\n",
        " 'The',\n",
        " 'by',\n",
        " 'business',\n",
        " 'are',\n",
        " 'online',\n",
        " 'Web',\n",
        " 'world',\n",
        " 'Business',\n",
        " 'our',\n",
        " 'Marketing',\n",
        " 'more']"
       ]
      }
     ],
     "prompt_number": 141
    },
    {
     "cell_type": "code",
     "collapsed": false,
     "input": [
      "#once we have a dataset of users, lets look at how locations\n",
      "locs = {} \n",
      "for x in userlist.keys():\n",
      "    w = userlist[x]['location']\n",
      "    if w in locs.keys():\n",
      "        locs[w] += 1\n",
      "    else:\n",
      "        locs[w] = 1"
     ],
     "language": "python",
     "metadata": {},
     "outputs": [],
     "prompt_number": 135
    },
    {
     "cell_type": "code",
     "collapsed": false,
     "input": [
      "popular_locs = sorted(locs, key = locs.get, reverse = True)"
     ],
     "language": "python",
     "metadata": {},
     "outputs": [],
     "prompt_number": 136
    },
    {
     "cell_type": "code",
     "collapsed": false,
     "input": [
      "popular_locs[:5]"
     ],
     "language": "python",
     "metadata": {},
     "outputs": [
      {
       "metadata": {},
       "output_type": "pyout",
       "prompt_number": 138,
       "text": [
        "[u'', u'Austin, TX', u'Canada', u'Dallas, TX', u'Global']"
       ]
      }
     ],
     "prompt_number": 138
    },
    {
     "cell_type": "code",
     "collapsed": false,
     "input": [
      "api.get_user('1633288668')"
     ],
     "language": "python",
     "metadata": {},
     "outputs": [
      {
       "metadata": {},
       "output_type": "pyout",
       "prompt_number": 139,
       "text": [
        "User(follow_request_sent=False, profile_use_background_image=True, _json={u'follow_request_sent': False, u'profile_use_background_image': True, u'profile_text_color': u'333333', u'default_profile_image': False, u'id': 1633288668, u'profile_background_image_url_https': u'https://abs.twimg.com/images/themes/theme1/bg.png', u'verified': False, u'profile_location': None, u'profile_image_url_https': u'https://pbs.twimg.com/profile_images/549943177575411713/jrOJAYx0_normal.jpeg', u'profile_sidebar_fill_color': u'DDEEF6', u'entities': {u'url': {u'urls': [{u'url': u'http://t.co/epUwhW72k6', u'indices': [0, 22], u'expanded_url': u'http://mariaeandreu.com', u'display_url': u'mariaeandreu.com'}]}, u'description': {u'urls': []}}, u'followers_count': 1867, u'profile_sidebar_border_color': u'C0DEED', u'id_str': u'1633288668', u'profile_background_color': u'C0DEED', u'listed_count': 22, u'status': {u'contributors': None, u'truncated': False, u'text': u'RT @MargaretAtwood: 12 Doses Of Margaret Atwood Realness http://t.co/w1NhcQ9aSW via @doubledaypub', u'in_reply_to_status_id': None, u'id': 565609098088296451L, u'favorite_count': 0, u'source': u'<a href=\"http://twitter.com/download/iphone\" rel=\"nofollow\">Twitter for iPhone</a>', u'retweeted': False, u'coordinates': None, u'entities': {u'symbols': [], u'user_mentions': [{u'id': 54730258, u'indices': [3, 18], u'id_str': u'54730258', u'screen_name': u'MargaretAtwood', u'name': u'Margaret E. Atwood'}, {u'id': 26533046, u'indices': [84, 97], u'id_str': u'26533046', u'screen_name': u'doubledaypub', u'name': u'Doubleday'}], u'hashtags': [], u'urls': [{u'url': u'http://t.co/w1NhcQ9aSW', u'indices': [57, 79], u'expanded_url': u'http://www.buzzfeed.com/doubleday/12-doses-of-margaret-atwood-realness-dfcu', u'display_url': u'buzzfeed.com/doubleday/12-d\\u2026'}]}, u'in_reply_to_screen_name': None, u'id_str': u'565609098088296451', u'retweet_count': 26, u'in_reply_to_user_id': None, u'favorited': False, u'retweeted_status': {u'contributors': None, u'truncated': False, u'text': u'12 Doses Of Margaret Atwood Realness http://t.co/w1NhcQ9aSW via @doubledaypub', u'in_reply_to_status_id': None, u'id': 565589731984293889L, u'favorite_count': 30, u'source': u'<a href=\"http://twitter.com\" rel=\"nofollow\">Twitter Web Client</a>', u'retweeted': False, u'coordinates': None, u'entities': {u'symbols': [], u'user_mentions': [{u'id': 26533046, u'indices': [64, 77], u'id_str': u'26533046', u'screen_name': u'doubledaypub', u'name': u'Doubleday'}], u'hashtags': [], u'urls': [{u'url': u'http://t.co/w1NhcQ9aSW', u'indices': [37, 59], u'expanded_url': u'http://www.buzzfeed.com/doubleday/12-doses-of-margaret-atwood-realness-dfcu', u'display_url': u'buzzfeed.com/doubleday/12-d\\u2026'}]}, u'in_reply_to_screen_name': None, u'id_str': u'565589731984293889', u'retweet_count': 26, u'in_reply_to_user_id': None, u'favorited': False, u'geo': None, u'in_reply_to_user_id_str': None, u'possibly_sensitive': False, u'lang': u'en', u'created_at': u'Wed Feb 11 19:14:34 +0000 2015', u'in_reply_to_status_id_str': None, u'place': None}, u'geo': None, u'in_reply_to_user_id_str': None, u'possibly_sensitive': False, u'lang': u'en', u'created_at': u'Wed Feb 11 20:31:32 +0000 2015', u'in_reply_to_status_id_str': None, u'place': None}, u'is_translation_enabled': False, u'utc_offset': None, u'statuses_count': 1435, u'description': u'Author of THE SECRET SIDE OF EMPTY, SLJ Top 10 Latino Books of 2014. Jersey girl, lover of green things & small triumphs. Repped by Susan Cohen, Writers House.', u'friends_count': 460, u'location': u'', u'profile_link_color': u'0084B4', u'profile_image_url': u'http://pbs.twimg.com/profile_images/549943177575411713/jrOJAYx0_normal.jpeg', u'following': False, u'geo_enabled': True, u'profile_banner_url': u'https://pbs.twimg.com/profile_banners/1633288668/1416872784', u'profile_background_image_url': u'http://abs.twimg.com/images/themes/theme1/bg.png', u'name': u'Maria E. Andreu', u'lang': u'en', u'profile_background_tile': False, u'favourites_count': 1695, u'screen_name': u'WriterSideofM', u'notifications': False, u'url': u'http://t.co/epUwhW72k6', u'created_at': u'Tue Jul 30 16:35:57 +0000 2013', u'contributors_enabled': False, u'time_zone': None, u'protected': False, u'default_profile': True, u'is_translator': False}, time_zone=None, id=1633288668, description=u'Author of THE SECRET SIDE OF EMPTY, SLJ Top 10 Latino Books of 2014. Jersey girl, lover of green things & small triumphs. Repped by Susan Cohen, Writers House.', _api=<tweepy.api.API object at 0x000000000B1060F0>, verified=False, profile_location=None, profile_image_url_https=u'https://pbs.twimg.com/profile_images/549943177575411713/jrOJAYx0_normal.jpeg', profile_sidebar_fill_color=u'DDEEF6', is_translator=False, geo_enabled=True, entities={u'url': {u'urls': [{u'url': u'http://t.co/epUwhW72k6', u'indices': [0, 22], u'expanded_url': u'http://mariaeandreu.com', u'display_url': u'mariaeandreu.com'}]}, u'description': {u'urls': []}}, followers_count=1867, protected=False, id_str=u'1633288668', default_profile_image=False, listed_count=22, status=Status(contributors=None, truncated=False, text=u'RT @MargaretAtwood: 12 Doses Of Margaret Atwood Realness http://t.co/w1NhcQ9aSW via @doubledaypub', in_reply_to_status_id=None, id=565609098088296451L, favorite_count=0, _api=<tweepy.api.API object at 0x000000000B1060F0>, source=u'Twitter for iPhone', _json={u'contributors': None, u'truncated': False, u'text': u'RT @MargaretAtwood: 12 Doses Of Margaret Atwood Realness http://t.co/w1NhcQ9aSW via @doubledaypub', u'in_reply_to_status_id': None, u'id': 565609098088296451L, u'favorite_count': 0, u'source': u'<a href=\"http://twitter.com/download/iphone\" rel=\"nofollow\">Twitter for iPhone</a>', u'retweeted': False, u'coordinates': None, u'entities': {u'symbols': [], u'user_mentions': [{u'id': 54730258, u'indices': [3, 18], u'id_str': u'54730258', u'screen_name': u'MargaretAtwood', u'name': u'Margaret E. Atwood'}, {u'id': 26533046, u'indices': [84, 97], u'id_str': u'26533046', u'screen_name': u'doubledaypub', u'name': u'Doubleday'}], u'hashtags': [], u'urls': [{u'url': u'http://t.co/w1NhcQ9aSW', u'indices': [57, 79], u'expanded_url': u'http://www.buzzfeed.com/doubleday/12-doses-of-margaret-atwood-realness-dfcu', u'display_url': u'buzzfeed.com/doubleday/12-d\\u2026'}]}, u'in_reply_to_screen_name': None, u'id_str': u'565609098088296451', u'retweet_count': 26, u'in_reply_to_user_id': None, u'favorited': False, u'retweeted_status': {u'contributors': None, u'truncated': False, u'text': u'12 Doses Of Margaret Atwood Realness http://t.co/w1NhcQ9aSW via @doubledaypub', u'in_reply_to_status_id': None, u'id': 565589731984293889L, u'favorite_count': 30, u'source': u'<a href=\"http://twitter.com\" rel=\"nofollow\">Twitter Web Client</a>', u'retweeted': False, u'coordinates': None, u'entities': {u'symbols': [], u'user_mentions': [{u'id': 26533046, u'indices': [64, 77], u'id_str': u'26533046', u'screen_name': u'doubledaypub', u'name': u'Doubleday'}], u'hashtags': [], u'urls': [{u'url': u'http://t.co/w1NhcQ9aSW', u'indices': [37, 59], u'expanded_url': u'http://www.buzzfeed.com/doubleday/12-doses-of-margaret-atwood-realness-dfcu', u'display_url': u'buzzfeed.com/doubleday/12-d\\u2026'}]}, u'in_reply_to_screen_name': None, u'id_str': u'565589731984293889', u'retweet_count': 26, u'in_reply_to_user_id': None, u'favorited': False, u'geo': None, u'in_reply_to_user_id_str': None, u'possibly_sensitive': False, u'lang': u'en', u'created_at': u'Wed Feb 11 19:14:34 +0000 2015', u'in_reply_to_status_id_str': None, u'place': None}, u'geo': None, u'in_reply_to_user_id_str': None, u'possibly_sensitive': False, u'lang': u'en', u'created_at': u'Wed Feb 11 20:31:32 +0000 2015', u'in_reply_to_status_id_str': None, u'place': None}, coordinates=None, entities={u'symbols': [], u'user_mentions': [{u'id': 54730258, u'indices': [3, 18], u'id_str': u'54730258', u'screen_name': u'MargaretAtwood', u'name': u'Margaret E. Atwood'}, {u'id': 26533046, u'indices': [84, 97], u'id_str': u'26533046', u'screen_name': u'doubledaypub', u'name': u'Doubleday'}], u'hashtags': [], u'urls': [{u'url': u'http://t.co/w1NhcQ9aSW', u'indices': [57, 79], u'expanded_url': u'http://www.buzzfeed.com/doubleday/12-doses-of-margaret-atwood-realness-dfcu', u'display_url': u'buzzfeed.com/doubleday/12-d\\u2026'}]}, in_reply_to_screen_name=None, id_str=u'565609098088296451', retweet_count=26, in_reply_to_user_id=None, favorited=False, retweeted_status=Status(contributors=None, truncated=False, text=u'12 Doses Of Margaret Atwood Realness http://t.co/w1NhcQ9aSW via @doubledaypub', in_reply_to_status_id=None, id=565589731984293889L, favorite_count=30, _api=<tweepy.api.API object at 0x000000000B1060F0>, source=u'Twitter Web Client', _json={u'contributors': None, u'truncated': False, u'text': u'12 Doses Of Margaret Atwood Realness http://t.co/w1NhcQ9aSW via @doubledaypub', u'in_reply_to_status_id': None, u'id': 565589731984293889L, u'favorite_count': 30, u'source': u'<a href=\"http://twitter.com\" rel=\"nofollow\">Twitter Web Client</a>', u'retweeted': False, u'coordinates': None, u'entities': {u'symbols': [], u'user_mentions': [{u'id': 26533046, u'indices': [64, 77], u'id_str': u'26533046', u'screen_name': u'doubledaypub', u'name': u'Doubleday'}], u'hashtags': [], u'urls': [{u'url': u'http://t.co/w1NhcQ9aSW', u'indices': [37, 59], u'expanded_url': u'http://www.buzzfeed.com/doubleday/12-doses-of-margaret-atwood-realness-dfcu', u'display_url': u'buzzfeed.com/doubleday/12-d\\u2026'}]}, u'in_reply_to_screen_name': None, u'id_str': u'565589731984293889', u'retweet_count': 26, u'in_reply_to_user_id': None, u'favorited': False, u'geo': None, u'in_reply_to_user_id_str': None, u'possibly_sensitive': False, u'lang': u'en', u'created_at': u'Wed Feb 11 19:14:34 +0000 2015', u'in_reply_to_status_id_str': None, u'place': None}, coordinates=None, entities={u'symbols': [], u'user_mentions': [{u'id': 26533046, u'indices': [64, 77], u'id_str': u'26533046', u'screen_name': u'doubledaypub', u'name': u'Doubleday'}], u'hashtags': [], u'urls': [{u'url': u'http://t.co/w1NhcQ9aSW', u'indices': [37, 59], u'expanded_url': u'http://www.buzzfeed.com/doubleday/12-doses-of-margaret-atwood-realness-dfcu', u'display_url': u'buzzfeed.com/doubleday/12-d\\u2026'}]}, in_reply_to_screen_name=None, id_str=u'565589731984293889', retweet_count=26, in_reply_to_user_id=None, favorited=False, source_url=u'http://twitter.com', geo=None, in_reply_to_user_id_str=None, possibly_sensitive=False, lang=u'en', created_at=datetime.datetime(2015, 2, 11, 19, 14, 34), in_reply_to_status_id_str=None, place=None, retweeted=False), source_url=u'http://twitter.com/download/iphone', geo=None, in_reply_to_user_id_str=None, possibly_sensitive=False, lang=u'en', created_at=datetime.datetime(2015, 2, 11, 20, 31, 32), in_reply_to_status_id_str=None, place=None, retweeted=False), lang=u'en', utc_offset=None, statuses_count=1435, profile_background_color=u'C0DEED', friends_count=460, profile_link_color=u'0084B4', profile_image_url=u'http://pbs.twimg.com/profile_images/549943177575411713/jrOJAYx0_normal.jpeg', notifications=False, favourites_count=1695, profile_background_image_url_https=u'https://abs.twimg.com/images/themes/theme1/bg.png', profile_banner_url=u'https://pbs.twimg.com/profile_banners/1633288668/1416872784', profile_background_image_url=u'http://abs.twimg.com/images/themes/theme1/bg.png', screen_name=u'WriterSideofM', is_translation_enabled=False, profile_background_tile=False, profile_text_color=u'333333', name=u'Maria E. Andreu', url=u'http://t.co/epUwhW72k6', created_at=datetime.datetime(2013, 7, 30, 16, 35, 57), contributors_enabled=False, location=u'', profile_sidebar_border_color=u'C0DEED', default_profile=True, following=False)"
       ]
      }
     ],
     "prompt_number": 139
    },
    {
     "cell_type": "code",
     "collapsed": false,
     "input": [
      "api.get_user('1633288668').followers_count"
     ],
     "language": "python",
     "metadata": {},
     "outputs": [
      {
       "metadata": {},
       "output_type": "pyout",
       "prompt_number": 32,
       "text": [
        "1873"
       ]
      }
     ],
     "prompt_number": 32
    },
    {
     "cell_type": "code",
     "collapsed": false,
     "input": [
      "api.get_user('1633288668').screen_name"
     ],
     "language": "python",
     "metadata": {},
     "outputs": [
      {
       "metadata": {},
       "output_type": "pyout",
       "prompt_number": 49,
       "text": [
        "u'WriterSideofM'"
       ]
      }
     ],
     "prompt_number": 49
    },
    {
     "cell_type": "code",
     "collapsed": false,
     "input": [],
     "language": "python",
     "metadata": {},
     "outputs": []
    }
   ],
   "metadata": {}
  }
 ]
}